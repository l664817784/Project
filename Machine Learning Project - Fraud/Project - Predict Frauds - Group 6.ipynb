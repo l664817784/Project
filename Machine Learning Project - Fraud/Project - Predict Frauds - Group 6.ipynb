{
  "nbformat": 4,
  "nbformat_minor": 0,
  "metadata": {
    "colab": {
      "provenance": [],
      "toc_visible": true
    },
    "kernelspec": {
      "name": "python3",
      "display_name": "Python 3"
    },
    "language_info": {
      "name": "python"
    }
  },
  "cells": [
    {
      "cell_type": "markdown",
      "source": [
        "#PREDICT FRAUDS WITH MACHINE LEARNING MODELS"
      ],
      "metadata": {
        "id": "rwqPIFUfxgiu"
      }
    },
    {
      "cell_type": "markdown",
      "source": [
        "#**Introduction**\n",
        "##Project Overview\n",
        "In this project, we will build various predictive models to see how accurate they are in detecting whether a transaction is a normal payment or a fraud. As described in the data set, the features are scaled and the names of the features are not shown due to privacy reasons.\n",
        "The models we build are important because credit card companies will be able to recognize fraudulent credit card transactions through the models, and customers will not be charged for items that they did not purchase. "
      ],
      "metadata": {
        "id": "Za5rGx3Ja4lp"
      }
    },
    {
      "cell_type": "markdown",
      "source": [
        "##Data Description"
      ],
      "metadata": {
        "id": "V24VQWiddExB"
      }
    },
    {
      "cell_type": "markdown",
      "source": [
        "We’ll train our model with a data set which has 26 variables and 10,800 transactions record. The feature 'Y' is response variable and it takes value 1 in case of fraud and 0 otherwise. The other 25 variables are numerical predictors, to attempt to predict fraudulent credit card transactions. Throughput analysis, the feature 'Y' in training data set has 1062 frauds record out of 10,800 transactions, which is somehow unbalanced. The positive class (frauds) account for 9.83% of all transactions. \n",
        "Most of our variables have Na values, and the distribution of Na values is pretty balanced. Except Var22-25 don’t have any NA values, every other feature have about 2300 NA values. "
      ],
      "metadata": {
        "id": "Dg_isGhxw1Rc"
      }
    },
    {
      "cell_type": "markdown",
      "source": [
        "#**Starter Code**"
      ],
      "metadata": {
        "id": "3oJSU4g0e_Ym"
      }
    },
    {
      "cell_type": "markdown",
      "source": [
        "##Loading Package"
      ],
      "metadata": {
        "id": "2qpK_4vLf7zW"
      }
    },
    {
      "cell_type": "code",
      "source": [
        "# General\n",
        "from sklearn.model_selection import cross_val_score\n",
        "from sklearn.impute import SimpleImputer, KNNImputer\n",
        "import numpy as np\n",
        "import pandas as pd\n",
        "from google.colab import drive\n",
        "import matplotlib.pyplot as plt\n",
        "import seaborn as sns\n",
        "\n",
        "#Data Processing\n",
        "from sklearn.preprocessing import OneHotEncoder,OrdinalEncoder\n",
        "from sklearn.impute import SimpleImputer\n",
        "from sklearn.pipeline import Pipeline\n",
        "from sklearn.preprocessing import PolynomialFeatures, StandardScaler\n",
        "from sklearn.pipeline import make_pipeline\n",
        "from sklearn.compose import ColumnTransformer\n",
        "from sklearn.preprocessing import StandardScaler\n",
        "from sklearn import metrics\n",
        "from sklearn.metrics import confusion_matrix\n",
        "from sklearn.metrics import classification_report, plot_confusion_matrix\n",
        "from sklearn.metrics import roc_auc_score\n",
        "from imblearn.over_sampling import SMOTE\n",
        "\n",
        "#Data Modeling\n",
        "from sklearn.model_selection import train_test_split\n",
        "from sklearn.neighbors import KNeighborsClassifier\n",
        "from sklearn.linear_model import LogisticRegression, LogisticRegressionCV\n",
        "from sklearn.metrics import accuracy_score, confusion_matrix, classification_report\n",
        "from sklearn.ensemble import RandomForestClassifier, GradientBoostingClassifier, HistGradientBoostingClassifier\n",
        "from xgboost import XGBClassifier\n",
        "from sklearn.ensemble import ExtraTreesClassifier\n",
        "from sklearn.model_selection import StratifiedShuffleSplit\n",
        "from sklearn.model_selection import GridSearchCV"
      ],
      "metadata": {
        "id": "-lprJXrPfKp5"
      },
      "execution_count": 359,
      "outputs": []
    },
    {
      "cell_type": "markdown",
      "source": [
        "##Loading Data"
      ],
      "metadata": {
        "id": "Bd6gfIiIf99W"
      }
    },
    {
      "cell_type": "code",
      "source": [
        "train = pd.read_csv('/content/fraud_train.csv') \n",
        "test = pd.read_csv('/content/fraud_test.csv') "
      ],
      "metadata": {
        "id": "AfTNUPllgOo1"
      },
      "execution_count": 360,
      "outputs": []
    },
    {
      "cell_type": "markdown",
      "source": [
        "#**Data Pre-processing**"
      ],
      "metadata": {
        "id": "nBJbTwVXdWKL"
      }
    },
    {
      "cell_type": "markdown",
      "source": [
        "##Data Analysis"
      ],
      "metadata": {
        "id": "O4Vt3j-lh2UX"
      }
    },
    {
      "cell_type": "code",
      "source": [
        "train.head()"
      ],
      "metadata": {
        "colab": {
          "base_uri": "https://localhost:8080/",
          "height": 235
        },
        "id": "T_E6nkQseuBM",
        "outputId": "c6da5f71-e5e6-4517-ce7d-66e32c8531ab"
      },
      "execution_count": 361,
      "outputs": [
        {
          "output_type": "execute_result",
          "data": {
            "text/plain": [
              "   Y     Var1    Var2     Var3    Var4     Var5     Var6    Var7     Var8  \\\n",
              "0  0  11.9967  0.6640   9.4284     NaN   9.5841  -8.8909  6.8590  20.6198   \n",
              "1  1   7.3841 -5.8628  13.4809  4.0597   9.3176      NaN     NaN      NaN   \n",
              "2  0   7.1921 -1.0867   9.2162  6.6952  12.1916   5.3659  5.2984  17.2626   \n",
              "3  0   4.9825     NaN      NaN  7.1418  10.3485  -2.2850     NaN      NaN   \n",
              "4  0  14.0560     NaN   8.8360     NaN   9.0164 -12.6593  4.5088  13.4253   \n",
              "\n",
              "     Var9  ...    Var16    Var17    Var18    Var19    Var20    Var21    Var22  \\\n",
              "0 -1.6497  ...  14.6973      NaN  -3.3983   7.7124   4.7262  10.6020  21.0961   \n",
              "1 -3.5666  ...  14.8458      NaN      NaN  31.4884  21.7779  23.5737  16.7039   \n",
              "2 -2.4231  ...      NaN   9.3673  -5.1032      NaN      NaN   7.0761  16.6835   \n",
              "3     NaN  ...      NaN  10.3258   3.7540  15.4096  -1.3130      NaN  16.4511   \n",
              "4     NaN  ...  15.4690  10.7742 -11.3350   9.6330  23.3530      NaN   3.6647   \n",
              "\n",
              "    Var23   Var24   Var25  \n",
              "0  2.5314  9.8295  3.6643  \n",
              "1  8.7103  2.6744  4.0920  \n",
              "2  5.1815  3.1877  5.9284  \n",
              "3  6.6797  7.0225  5.4294  \n",
              "4  3.1156  0.0080  4.0965  \n",
              "\n",
              "[5 rows x 26 columns]"
            ],
            "text/html": [
              "\n",
              "  <div id=\"df-dfdbca42-9517-43d1-8e5f-1d7543762197\">\n",
              "    <div class=\"colab-df-container\">\n",
              "      <div>\n",
              "<style scoped>\n",
              "    .dataframe tbody tr th:only-of-type {\n",
              "        vertical-align: middle;\n",
              "    }\n",
              "\n",
              "    .dataframe tbody tr th {\n",
              "        vertical-align: top;\n",
              "    }\n",
              "\n",
              "    .dataframe thead th {\n",
              "        text-align: right;\n",
              "    }\n",
              "</style>\n",
              "<table border=\"1\" class=\"dataframe\">\n",
              "  <thead>\n",
              "    <tr style=\"text-align: right;\">\n",
              "      <th></th>\n",
              "      <th>Y</th>\n",
              "      <th>Var1</th>\n",
              "      <th>Var2</th>\n",
              "      <th>Var3</th>\n",
              "      <th>Var4</th>\n",
              "      <th>Var5</th>\n",
              "      <th>Var6</th>\n",
              "      <th>Var7</th>\n",
              "      <th>Var8</th>\n",
              "      <th>Var9</th>\n",
              "      <th>...</th>\n",
              "      <th>Var16</th>\n",
              "      <th>Var17</th>\n",
              "      <th>Var18</th>\n",
              "      <th>Var19</th>\n",
              "      <th>Var20</th>\n",
              "      <th>Var21</th>\n",
              "      <th>Var22</th>\n",
              "      <th>Var23</th>\n",
              "      <th>Var24</th>\n",
              "      <th>Var25</th>\n",
              "    </tr>\n",
              "  </thead>\n",
              "  <tbody>\n",
              "    <tr>\n",
              "      <th>0</th>\n",
              "      <td>0</td>\n",
              "      <td>11.9967</td>\n",
              "      <td>0.6640</td>\n",
              "      <td>9.4284</td>\n",
              "      <td>NaN</td>\n",
              "      <td>9.5841</td>\n",
              "      <td>-8.8909</td>\n",
              "      <td>6.8590</td>\n",
              "      <td>20.6198</td>\n",
              "      <td>-1.6497</td>\n",
              "      <td>...</td>\n",
              "      <td>14.6973</td>\n",
              "      <td>NaN</td>\n",
              "      <td>-3.3983</td>\n",
              "      <td>7.7124</td>\n",
              "      <td>4.7262</td>\n",
              "      <td>10.6020</td>\n",
              "      <td>21.0961</td>\n",
              "      <td>2.5314</td>\n",
              "      <td>9.8295</td>\n",
              "      <td>3.6643</td>\n",
              "    </tr>\n",
              "    <tr>\n",
              "      <th>1</th>\n",
              "      <td>1</td>\n",
              "      <td>7.3841</td>\n",
              "      <td>-5.8628</td>\n",
              "      <td>13.4809</td>\n",
              "      <td>4.0597</td>\n",
              "      <td>9.3176</td>\n",
              "      <td>NaN</td>\n",
              "      <td>NaN</td>\n",
              "      <td>NaN</td>\n",
              "      <td>-3.5666</td>\n",
              "      <td>...</td>\n",
              "      <td>14.8458</td>\n",
              "      <td>NaN</td>\n",
              "      <td>NaN</td>\n",
              "      <td>31.4884</td>\n",
              "      <td>21.7779</td>\n",
              "      <td>23.5737</td>\n",
              "      <td>16.7039</td>\n",
              "      <td>8.7103</td>\n",
              "      <td>2.6744</td>\n",
              "      <td>4.0920</td>\n",
              "    </tr>\n",
              "    <tr>\n",
              "      <th>2</th>\n",
              "      <td>0</td>\n",
              "      <td>7.1921</td>\n",
              "      <td>-1.0867</td>\n",
              "      <td>9.2162</td>\n",
              "      <td>6.6952</td>\n",
              "      <td>12.1916</td>\n",
              "      <td>5.3659</td>\n",
              "      <td>5.2984</td>\n",
              "      <td>17.2626</td>\n",
              "      <td>-2.4231</td>\n",
              "      <td>...</td>\n",
              "      <td>NaN</td>\n",
              "      <td>9.3673</td>\n",
              "      <td>-5.1032</td>\n",
              "      <td>NaN</td>\n",
              "      <td>NaN</td>\n",
              "      <td>7.0761</td>\n",
              "      <td>16.6835</td>\n",
              "      <td>5.1815</td>\n",
              "      <td>3.1877</td>\n",
              "      <td>5.9284</td>\n",
              "    </tr>\n",
              "    <tr>\n",
              "      <th>3</th>\n",
              "      <td>0</td>\n",
              "      <td>4.9825</td>\n",
              "      <td>NaN</td>\n",
              "      <td>NaN</td>\n",
              "      <td>7.1418</td>\n",
              "      <td>10.3485</td>\n",
              "      <td>-2.2850</td>\n",
              "      <td>NaN</td>\n",
              "      <td>NaN</td>\n",
              "      <td>NaN</td>\n",
              "      <td>...</td>\n",
              "      <td>NaN</td>\n",
              "      <td>10.3258</td>\n",
              "      <td>3.7540</td>\n",
              "      <td>15.4096</td>\n",
              "      <td>-1.3130</td>\n",
              "      <td>NaN</td>\n",
              "      <td>16.4511</td>\n",
              "      <td>6.6797</td>\n",
              "      <td>7.0225</td>\n",
              "      <td>5.4294</td>\n",
              "    </tr>\n",
              "    <tr>\n",
              "      <th>4</th>\n",
              "      <td>0</td>\n",
              "      <td>14.0560</td>\n",
              "      <td>NaN</td>\n",
              "      <td>8.8360</td>\n",
              "      <td>NaN</td>\n",
              "      <td>9.0164</td>\n",
              "      <td>-12.6593</td>\n",
              "      <td>4.5088</td>\n",
              "      <td>13.4253</td>\n",
              "      <td>NaN</td>\n",
              "      <td>...</td>\n",
              "      <td>15.4690</td>\n",
              "      <td>10.7742</td>\n",
              "      <td>-11.3350</td>\n",
              "      <td>9.6330</td>\n",
              "      <td>23.3530</td>\n",
              "      <td>NaN</td>\n",
              "      <td>3.6647</td>\n",
              "      <td>3.1156</td>\n",
              "      <td>0.0080</td>\n",
              "      <td>4.0965</td>\n",
              "    </tr>\n",
              "  </tbody>\n",
              "</table>\n",
              "<p>5 rows × 26 columns</p>\n",
              "</div>\n",
              "      <button class=\"colab-df-convert\" onclick=\"convertToInteractive('df-dfdbca42-9517-43d1-8e5f-1d7543762197')\"\n",
              "              title=\"Convert this dataframe to an interactive table.\"\n",
              "              style=\"display:none;\">\n",
              "        \n",
              "  <svg xmlns=\"http://www.w3.org/2000/svg\" height=\"24px\"viewBox=\"0 0 24 24\"\n",
              "       width=\"24px\">\n",
              "    <path d=\"M0 0h24v24H0V0z\" fill=\"none\"/>\n",
              "    <path d=\"M18.56 5.44l.94 2.06.94-2.06 2.06-.94-2.06-.94-.94-2.06-.94 2.06-2.06.94zm-11 1L8.5 8.5l.94-2.06 2.06-.94-2.06-.94L8.5 2.5l-.94 2.06-2.06.94zm10 10l.94 2.06.94-2.06 2.06-.94-2.06-.94-.94-2.06-.94 2.06-2.06.94z\"/><path d=\"M17.41 7.96l-1.37-1.37c-.4-.4-.92-.59-1.43-.59-.52 0-1.04.2-1.43.59L10.3 9.45l-7.72 7.72c-.78.78-.78 2.05 0 2.83L4 21.41c.39.39.9.59 1.41.59.51 0 1.02-.2 1.41-.59l7.78-7.78 2.81-2.81c.8-.78.8-2.07 0-2.86zM5.41 20L4 18.59l7.72-7.72 1.47 1.35L5.41 20z\"/>\n",
              "  </svg>\n",
              "      </button>\n",
              "      \n",
              "  <style>\n",
              "    .colab-df-container {\n",
              "      display:flex;\n",
              "      flex-wrap:wrap;\n",
              "      gap: 12px;\n",
              "    }\n",
              "\n",
              "    .colab-df-convert {\n",
              "      background-color: #E8F0FE;\n",
              "      border: none;\n",
              "      border-radius: 50%;\n",
              "      cursor: pointer;\n",
              "      display: none;\n",
              "      fill: #1967D2;\n",
              "      height: 32px;\n",
              "      padding: 0 0 0 0;\n",
              "      width: 32px;\n",
              "    }\n",
              "\n",
              "    .colab-df-convert:hover {\n",
              "      background-color: #E2EBFA;\n",
              "      box-shadow: 0px 1px 2px rgba(60, 64, 67, 0.3), 0px 1px 3px 1px rgba(60, 64, 67, 0.15);\n",
              "      fill: #174EA6;\n",
              "    }\n",
              "\n",
              "    [theme=dark] .colab-df-convert {\n",
              "      background-color: #3B4455;\n",
              "      fill: #D2E3FC;\n",
              "    }\n",
              "\n",
              "    [theme=dark] .colab-df-convert:hover {\n",
              "      background-color: #434B5C;\n",
              "      box-shadow: 0px 1px 3px 1px rgba(0, 0, 0, 0.15);\n",
              "      filter: drop-shadow(0px 1px 2px rgba(0, 0, 0, 0.3));\n",
              "      fill: #FFFFFF;\n",
              "    }\n",
              "  </style>\n",
              "\n",
              "      <script>\n",
              "        const buttonEl =\n",
              "          document.querySelector('#df-dfdbca42-9517-43d1-8e5f-1d7543762197 button.colab-df-convert');\n",
              "        buttonEl.style.display =\n",
              "          google.colab.kernel.accessAllowed ? 'block' : 'none';\n",
              "\n",
              "        async function convertToInteractive(key) {\n",
              "          const element = document.querySelector('#df-dfdbca42-9517-43d1-8e5f-1d7543762197');\n",
              "          const dataTable =\n",
              "            await google.colab.kernel.invokeFunction('convertToInteractive',\n",
              "                                                     [key], {});\n",
              "          if (!dataTable) return;\n",
              "\n",
              "          const docLinkHtml = 'Like what you see? Visit the ' +\n",
              "            '<a target=\"_blank\" href=https://colab.research.google.com/notebooks/data_table.ipynb>data table notebook</a>'\n",
              "            + ' to learn more about interactive tables.';\n",
              "          element.innerHTML = '';\n",
              "          dataTable['output_type'] = 'display_data';\n",
              "          await google.colab.output.renderOutput(dataTable, element);\n",
              "          const docLink = document.createElement('div');\n",
              "          docLink.innerHTML = docLinkHtml;\n",
              "          element.appendChild(docLink);\n",
              "        }\n",
              "      </script>\n",
              "    </div>\n",
              "  </div>\n",
              "  "
            ]
          },
          "metadata": {},
          "execution_count": 361
        }
      ]
    },
    {
      "cell_type": "code",
      "source": [
        "test.head()"
      ],
      "metadata": {
        "colab": {
          "base_uri": "https://localhost:8080/",
          "height": 235
        },
        "id": "oKXM-JuXi8y7",
        "outputId": "68a3d4ed-bf45-441a-d608-19586a808e2a"
      },
      "execution_count": 362,
      "outputs": [
        {
          "output_type": "execute_result",
          "data": {
            "text/plain": [
              "   ID     Var1    Var2     Var3    Var4     Var5    Var6    Var7     Var8  \\\n",
              "0   1   8.2781 -2.4840      NaN  7.7391   8.4642  6.2852  7.2324  18.1359   \n",
              "1   3  10.3614 -4.2579  16.7134  5.6450      NaN     NaN  6.6844      NaN   \n",
              "2   4  10.9930     NaN  12.3683  8.3846  12.4445 -7.1959     NaN      NaN   \n",
              "3   5   5.9489 -0.1579   8.0233  5.6841   9.8591 -4.6346  3.9059  13.7712   \n",
              "4   6  11.5873 -0.0331      NaN  2.7923   9.8029 -3.8896     NaN  20.8675   \n",
              "\n",
              "     Var9  ...    Var16    Var17    Var18    Var19    Var20    Var21    Var22  \\\n",
              "0     NaN  ...  14.1446  11.0192 -16.1145      NaN   8.2449  20.0967   1.7902   \n",
              "1     NaN  ...  14.1765   4.9560  -7.9790  23.5552      NaN   5.7637   9.9245   \n",
              "2     NaN  ...      NaN      NaN   1.9167  17.4225   5.2187  19.5462  20.7154   \n",
              "3  1.8678  ...  14.8169   7.9824      NaN  29.4874   9.2717   6.1874  11.7756   \n",
              "4     NaN  ...      NaN  13.1580 -10.3160  25.6607  16.6601      NaN   7.9349   \n",
              "\n",
              "    Var23    Var24   Var25  \n",
              "0  4.2489   1.7969  5.3903  \n",
              "1  7.0553   8.4497  5.5468  \n",
              "2  6.5395   0.4489  6.8641  \n",
              "3  1.0252  10.3949  6.0981  \n",
              "4  4.6142   5.0315  6.3489  \n",
              "\n",
              "[5 rows x 26 columns]"
            ],
            "text/html": [
              "\n",
              "  <div id=\"df-2ab3f61b-b460-42a7-beb8-cf81ce5fb739\">\n",
              "    <div class=\"colab-df-container\">\n",
              "      <div>\n",
              "<style scoped>\n",
              "    .dataframe tbody tr th:only-of-type {\n",
              "        vertical-align: middle;\n",
              "    }\n",
              "\n",
              "    .dataframe tbody tr th {\n",
              "        vertical-align: top;\n",
              "    }\n",
              "\n",
              "    .dataframe thead th {\n",
              "        text-align: right;\n",
              "    }\n",
              "</style>\n",
              "<table border=\"1\" class=\"dataframe\">\n",
              "  <thead>\n",
              "    <tr style=\"text-align: right;\">\n",
              "      <th></th>\n",
              "      <th>ID</th>\n",
              "      <th>Var1</th>\n",
              "      <th>Var2</th>\n",
              "      <th>Var3</th>\n",
              "      <th>Var4</th>\n",
              "      <th>Var5</th>\n",
              "      <th>Var6</th>\n",
              "      <th>Var7</th>\n",
              "      <th>Var8</th>\n",
              "      <th>Var9</th>\n",
              "      <th>...</th>\n",
              "      <th>Var16</th>\n",
              "      <th>Var17</th>\n",
              "      <th>Var18</th>\n",
              "      <th>Var19</th>\n",
              "      <th>Var20</th>\n",
              "      <th>Var21</th>\n",
              "      <th>Var22</th>\n",
              "      <th>Var23</th>\n",
              "      <th>Var24</th>\n",
              "      <th>Var25</th>\n",
              "    </tr>\n",
              "  </thead>\n",
              "  <tbody>\n",
              "    <tr>\n",
              "      <th>0</th>\n",
              "      <td>1</td>\n",
              "      <td>8.2781</td>\n",
              "      <td>-2.4840</td>\n",
              "      <td>NaN</td>\n",
              "      <td>7.7391</td>\n",
              "      <td>8.4642</td>\n",
              "      <td>6.2852</td>\n",
              "      <td>7.2324</td>\n",
              "      <td>18.1359</td>\n",
              "      <td>NaN</td>\n",
              "      <td>...</td>\n",
              "      <td>14.1446</td>\n",
              "      <td>11.0192</td>\n",
              "      <td>-16.1145</td>\n",
              "      <td>NaN</td>\n",
              "      <td>8.2449</td>\n",
              "      <td>20.0967</td>\n",
              "      <td>1.7902</td>\n",
              "      <td>4.2489</td>\n",
              "      <td>1.7969</td>\n",
              "      <td>5.3903</td>\n",
              "    </tr>\n",
              "    <tr>\n",
              "      <th>1</th>\n",
              "      <td>3</td>\n",
              "      <td>10.3614</td>\n",
              "      <td>-4.2579</td>\n",
              "      <td>16.7134</td>\n",
              "      <td>5.6450</td>\n",
              "      <td>NaN</td>\n",
              "      <td>NaN</td>\n",
              "      <td>6.6844</td>\n",
              "      <td>NaN</td>\n",
              "      <td>NaN</td>\n",
              "      <td>...</td>\n",
              "      <td>14.1765</td>\n",
              "      <td>4.9560</td>\n",
              "      <td>-7.9790</td>\n",
              "      <td>23.5552</td>\n",
              "      <td>NaN</td>\n",
              "      <td>5.7637</td>\n",
              "      <td>9.9245</td>\n",
              "      <td>7.0553</td>\n",
              "      <td>8.4497</td>\n",
              "      <td>5.5468</td>\n",
              "    </tr>\n",
              "    <tr>\n",
              "      <th>2</th>\n",
              "      <td>4</td>\n",
              "      <td>10.9930</td>\n",
              "      <td>NaN</td>\n",
              "      <td>12.3683</td>\n",
              "      <td>8.3846</td>\n",
              "      <td>12.4445</td>\n",
              "      <td>-7.1959</td>\n",
              "      <td>NaN</td>\n",
              "      <td>NaN</td>\n",
              "      <td>NaN</td>\n",
              "      <td>...</td>\n",
              "      <td>NaN</td>\n",
              "      <td>NaN</td>\n",
              "      <td>1.9167</td>\n",
              "      <td>17.4225</td>\n",
              "      <td>5.2187</td>\n",
              "      <td>19.5462</td>\n",
              "      <td>20.7154</td>\n",
              "      <td>6.5395</td>\n",
              "      <td>0.4489</td>\n",
              "      <td>6.8641</td>\n",
              "    </tr>\n",
              "    <tr>\n",
              "      <th>3</th>\n",
              "      <td>5</td>\n",
              "      <td>5.9489</td>\n",
              "      <td>-0.1579</td>\n",
              "      <td>8.0233</td>\n",
              "      <td>5.6841</td>\n",
              "      <td>9.8591</td>\n",
              "      <td>-4.6346</td>\n",
              "      <td>3.9059</td>\n",
              "      <td>13.7712</td>\n",
              "      <td>1.8678</td>\n",
              "      <td>...</td>\n",
              "      <td>14.8169</td>\n",
              "      <td>7.9824</td>\n",
              "      <td>NaN</td>\n",
              "      <td>29.4874</td>\n",
              "      <td>9.2717</td>\n",
              "      <td>6.1874</td>\n",
              "      <td>11.7756</td>\n",
              "      <td>1.0252</td>\n",
              "      <td>10.3949</td>\n",
              "      <td>6.0981</td>\n",
              "    </tr>\n",
              "    <tr>\n",
              "      <th>4</th>\n",
              "      <td>6</td>\n",
              "      <td>11.5873</td>\n",
              "      <td>-0.0331</td>\n",
              "      <td>NaN</td>\n",
              "      <td>2.7923</td>\n",
              "      <td>9.8029</td>\n",
              "      <td>-3.8896</td>\n",
              "      <td>NaN</td>\n",
              "      <td>20.8675</td>\n",
              "      <td>NaN</td>\n",
              "      <td>...</td>\n",
              "      <td>NaN</td>\n",
              "      <td>13.1580</td>\n",
              "      <td>-10.3160</td>\n",
              "      <td>25.6607</td>\n",
              "      <td>16.6601</td>\n",
              "      <td>NaN</td>\n",
              "      <td>7.9349</td>\n",
              "      <td>4.6142</td>\n",
              "      <td>5.0315</td>\n",
              "      <td>6.3489</td>\n",
              "    </tr>\n",
              "  </tbody>\n",
              "</table>\n",
              "<p>5 rows × 26 columns</p>\n",
              "</div>\n",
              "      <button class=\"colab-df-convert\" onclick=\"convertToInteractive('df-2ab3f61b-b460-42a7-beb8-cf81ce5fb739')\"\n",
              "              title=\"Convert this dataframe to an interactive table.\"\n",
              "              style=\"display:none;\">\n",
              "        \n",
              "  <svg xmlns=\"http://www.w3.org/2000/svg\" height=\"24px\"viewBox=\"0 0 24 24\"\n",
              "       width=\"24px\">\n",
              "    <path d=\"M0 0h24v24H0V0z\" fill=\"none\"/>\n",
              "    <path d=\"M18.56 5.44l.94 2.06.94-2.06 2.06-.94-2.06-.94-.94-2.06-.94 2.06-2.06.94zm-11 1L8.5 8.5l.94-2.06 2.06-.94-2.06-.94L8.5 2.5l-.94 2.06-2.06.94zm10 10l.94 2.06.94-2.06 2.06-.94-2.06-.94-.94-2.06-.94 2.06-2.06.94z\"/><path d=\"M17.41 7.96l-1.37-1.37c-.4-.4-.92-.59-1.43-.59-.52 0-1.04.2-1.43.59L10.3 9.45l-7.72 7.72c-.78.78-.78 2.05 0 2.83L4 21.41c.39.39.9.59 1.41.59.51 0 1.02-.2 1.41-.59l7.78-7.78 2.81-2.81c.8-.78.8-2.07 0-2.86zM5.41 20L4 18.59l7.72-7.72 1.47 1.35L5.41 20z\"/>\n",
              "  </svg>\n",
              "      </button>\n",
              "      \n",
              "  <style>\n",
              "    .colab-df-container {\n",
              "      display:flex;\n",
              "      flex-wrap:wrap;\n",
              "      gap: 12px;\n",
              "    }\n",
              "\n",
              "    .colab-df-convert {\n",
              "      background-color: #E8F0FE;\n",
              "      border: none;\n",
              "      border-radius: 50%;\n",
              "      cursor: pointer;\n",
              "      display: none;\n",
              "      fill: #1967D2;\n",
              "      height: 32px;\n",
              "      padding: 0 0 0 0;\n",
              "      width: 32px;\n",
              "    }\n",
              "\n",
              "    .colab-df-convert:hover {\n",
              "      background-color: #E2EBFA;\n",
              "      box-shadow: 0px 1px 2px rgba(60, 64, 67, 0.3), 0px 1px 3px 1px rgba(60, 64, 67, 0.15);\n",
              "      fill: #174EA6;\n",
              "    }\n",
              "\n",
              "    [theme=dark] .colab-df-convert {\n",
              "      background-color: #3B4455;\n",
              "      fill: #D2E3FC;\n",
              "    }\n",
              "\n",
              "    [theme=dark] .colab-df-convert:hover {\n",
              "      background-color: #434B5C;\n",
              "      box-shadow: 0px 1px 3px 1px rgba(0, 0, 0, 0.15);\n",
              "      filter: drop-shadow(0px 1px 2px rgba(0, 0, 0, 0.3));\n",
              "      fill: #FFFFFF;\n",
              "    }\n",
              "  </style>\n",
              "\n",
              "      <script>\n",
              "        const buttonEl =\n",
              "          document.querySelector('#df-2ab3f61b-b460-42a7-beb8-cf81ce5fb739 button.colab-df-convert');\n",
              "        buttonEl.style.display =\n",
              "          google.colab.kernel.accessAllowed ? 'block' : 'none';\n",
              "\n",
              "        async function convertToInteractive(key) {\n",
              "          const element = document.querySelector('#df-2ab3f61b-b460-42a7-beb8-cf81ce5fb739');\n",
              "          const dataTable =\n",
              "            await google.colab.kernel.invokeFunction('convertToInteractive',\n",
              "                                                     [key], {});\n",
              "          if (!dataTable) return;\n",
              "\n",
              "          const docLinkHtml = 'Like what you see? Visit the ' +\n",
              "            '<a target=\"_blank\" href=https://colab.research.google.com/notebooks/data_table.ipynb>data table notebook</a>'\n",
              "            + ' to learn more about interactive tables.';\n",
              "          element.innerHTML = '';\n",
              "          dataTable['output_type'] = 'display_data';\n",
              "          await google.colab.output.renderOutput(dataTable, element);\n",
              "          const docLink = document.createElement('div');\n",
              "          docLink.innerHTML = docLinkHtml;\n",
              "          element.appendChild(docLink);\n",
              "        }\n",
              "      </script>\n",
              "    </div>\n",
              "  </div>\n",
              "  "
            ]
          },
          "metadata": {},
          "execution_count": 362
        }
      ]
    },
    {
      "cell_type": "code",
      "source": [
        "train.describe()"
      ],
      "metadata": {
        "colab": {
          "base_uri": "https://localhost:8080/",
          "height": 393
        },
        "id": "qp6MrYKPi90N",
        "outputId": "d912c692-bae9-4d38-8ac7-33e0fa454db7"
      },
      "execution_count": 363,
      "outputs": [
        {
          "output_type": "execute_result",
          "data": {
            "text/plain": [
              "                  Y         Var1         Var2         Var3         Var4  \\\n",
              "count  10800.000000  8431.000000  8429.000000  8424.000000  8372.000000   \n",
              "mean       0.098333    10.692028    -1.539602    10.700727     6.819757   \n",
              "std        0.297779     3.025084     4.025577     2.608815     2.070841   \n",
              "min        0.000000     0.893500   -13.006000     3.343500     1.243900   \n",
              "25%        0.000000     8.493150    -4.622800     8.737525     5.252425   \n",
              "50%        0.000000    10.525200    -1.482300    10.583200     6.822050   \n",
              "75%        0.000000    12.766500     1.400900    12.490425     8.366050   \n",
              "max        1.000000    20.315000     8.803000    18.405500    12.870000   \n",
              "\n",
              "              Var5         Var6         Var7         Var8         Var9  ...  \\\n",
              "count  8438.000000  8357.000000  8401.000000  8416.000000  8447.000000  ...   \n",
              "mean     11.072874    -4.985175     5.405046    16.501264     0.264294  ...   \n",
              "std       1.617926     7.878781     0.869471     3.427696     3.336670  ...   \n",
              "min       6.154700   -27.687900     2.963200     5.749400    -9.078400  ...   \n",
              "25%       9.879150   -11.082500     4.766200    13.870875    -2.344850  ...   \n",
              "50%      11.131200    -4.539400     5.389200    16.378200     0.318300  ...   \n",
              "75%      12.229175     1.004200     6.008900    19.028450     2.925400  ...   \n",
              "max      15.558900    16.128700     7.986200    26.928200     8.650600  ...   \n",
              "\n",
              "             Var16        Var17        Var18        Var19        Var20  \\\n",
              "count  8405.000000  8449.000000  8429.000000  8365.000000  8399.000000   \n",
              "mean     14.577158     9.389388    -5.792071    15.154780    12.366760   \n",
              "std       0.414947     2.559180     6.791251     7.820877     7.981014   \n",
              "min      13.333900     1.777100   -26.933500    -7.964400    -9.300500   \n",
              "25%      14.257800     7.525900   -10.698300     9.193600     6.197900   \n",
              "50%      14.579900     9.286300    -5.709500    15.002500    12.384000   \n",
              "75%      14.882600    11.116900    -0.823200    20.866300    18.415850   \n",
              "max      15.741600    16.126400    15.162300    37.724300    33.455800   \n",
              "\n",
              "             Var21         Var22         Var23         Var24         Var25  \n",
              "count  8423.000000  10800.000000  10800.000000  10800.000000  10800.000000  \n",
              "mean     13.238417     17.251787      4.338417      3.405497      5.539400  \n",
              "std       5.856747      8.159357      2.874514      4.953913      0.786945  \n",
              "min      -1.095700    -10.089000     -4.801000    -13.134100      3.132200  \n",
              "25%       8.541400     11.620125      2.153575     -0.165000      4.997925  \n",
              "50%      13.124200     17.232300      4.324000      3.599600      5.546650  \n",
              "75%      17.865850     23.101725      6.371025      7.108975      6.106900  \n",
              "max      28.720800     44.785300     13.260000     17.914000      7.850900  \n",
              "\n",
              "[8 rows x 26 columns]"
            ],
            "text/html": [
              "\n",
              "  <div id=\"df-ed22c512-1866-4e5d-86d6-f7ab8ba2b172\">\n",
              "    <div class=\"colab-df-container\">\n",
              "      <div>\n",
              "<style scoped>\n",
              "    .dataframe tbody tr th:only-of-type {\n",
              "        vertical-align: middle;\n",
              "    }\n",
              "\n",
              "    .dataframe tbody tr th {\n",
              "        vertical-align: top;\n",
              "    }\n",
              "\n",
              "    .dataframe thead th {\n",
              "        text-align: right;\n",
              "    }\n",
              "</style>\n",
              "<table border=\"1\" class=\"dataframe\">\n",
              "  <thead>\n",
              "    <tr style=\"text-align: right;\">\n",
              "      <th></th>\n",
              "      <th>Y</th>\n",
              "      <th>Var1</th>\n",
              "      <th>Var2</th>\n",
              "      <th>Var3</th>\n",
              "      <th>Var4</th>\n",
              "      <th>Var5</th>\n",
              "      <th>Var6</th>\n",
              "      <th>Var7</th>\n",
              "      <th>Var8</th>\n",
              "      <th>Var9</th>\n",
              "      <th>...</th>\n",
              "      <th>Var16</th>\n",
              "      <th>Var17</th>\n",
              "      <th>Var18</th>\n",
              "      <th>Var19</th>\n",
              "      <th>Var20</th>\n",
              "      <th>Var21</th>\n",
              "      <th>Var22</th>\n",
              "      <th>Var23</th>\n",
              "      <th>Var24</th>\n",
              "      <th>Var25</th>\n",
              "    </tr>\n",
              "  </thead>\n",
              "  <tbody>\n",
              "    <tr>\n",
              "      <th>count</th>\n",
              "      <td>10800.000000</td>\n",
              "      <td>8431.000000</td>\n",
              "      <td>8429.000000</td>\n",
              "      <td>8424.000000</td>\n",
              "      <td>8372.000000</td>\n",
              "      <td>8438.000000</td>\n",
              "      <td>8357.000000</td>\n",
              "      <td>8401.000000</td>\n",
              "      <td>8416.000000</td>\n",
              "      <td>8447.000000</td>\n",
              "      <td>...</td>\n",
              "      <td>8405.000000</td>\n",
              "      <td>8449.000000</td>\n",
              "      <td>8429.000000</td>\n",
              "      <td>8365.000000</td>\n",
              "      <td>8399.000000</td>\n",
              "      <td>8423.000000</td>\n",
              "      <td>10800.000000</td>\n",
              "      <td>10800.000000</td>\n",
              "      <td>10800.000000</td>\n",
              "      <td>10800.000000</td>\n",
              "    </tr>\n",
              "    <tr>\n",
              "      <th>mean</th>\n",
              "      <td>0.098333</td>\n",
              "      <td>10.692028</td>\n",
              "      <td>-1.539602</td>\n",
              "      <td>10.700727</td>\n",
              "      <td>6.819757</td>\n",
              "      <td>11.072874</td>\n",
              "      <td>-4.985175</td>\n",
              "      <td>5.405046</td>\n",
              "      <td>16.501264</td>\n",
              "      <td>0.264294</td>\n",
              "      <td>...</td>\n",
              "      <td>14.577158</td>\n",
              "      <td>9.389388</td>\n",
              "      <td>-5.792071</td>\n",
              "      <td>15.154780</td>\n",
              "      <td>12.366760</td>\n",
              "      <td>13.238417</td>\n",
              "      <td>17.251787</td>\n",
              "      <td>4.338417</td>\n",
              "      <td>3.405497</td>\n",
              "      <td>5.539400</td>\n",
              "    </tr>\n",
              "    <tr>\n",
              "      <th>std</th>\n",
              "      <td>0.297779</td>\n",
              "      <td>3.025084</td>\n",
              "      <td>4.025577</td>\n",
              "      <td>2.608815</td>\n",
              "      <td>2.070841</td>\n",
              "      <td>1.617926</td>\n",
              "      <td>7.878781</td>\n",
              "      <td>0.869471</td>\n",
              "      <td>3.427696</td>\n",
              "      <td>3.336670</td>\n",
              "      <td>...</td>\n",
              "      <td>0.414947</td>\n",
              "      <td>2.559180</td>\n",
              "      <td>6.791251</td>\n",
              "      <td>7.820877</td>\n",
              "      <td>7.981014</td>\n",
              "      <td>5.856747</td>\n",
              "      <td>8.159357</td>\n",
              "      <td>2.874514</td>\n",
              "      <td>4.953913</td>\n",
              "      <td>0.786945</td>\n",
              "    </tr>\n",
              "    <tr>\n",
              "      <th>min</th>\n",
              "      <td>0.000000</td>\n",
              "      <td>0.893500</td>\n",
              "      <td>-13.006000</td>\n",
              "      <td>3.343500</td>\n",
              "      <td>1.243900</td>\n",
              "      <td>6.154700</td>\n",
              "      <td>-27.687900</td>\n",
              "      <td>2.963200</td>\n",
              "      <td>5.749400</td>\n",
              "      <td>-9.078400</td>\n",
              "      <td>...</td>\n",
              "      <td>13.333900</td>\n",
              "      <td>1.777100</td>\n",
              "      <td>-26.933500</td>\n",
              "      <td>-7.964400</td>\n",
              "      <td>-9.300500</td>\n",
              "      <td>-1.095700</td>\n",
              "      <td>-10.089000</td>\n",
              "      <td>-4.801000</td>\n",
              "      <td>-13.134100</td>\n",
              "      <td>3.132200</td>\n",
              "    </tr>\n",
              "    <tr>\n",
              "      <th>25%</th>\n",
              "      <td>0.000000</td>\n",
              "      <td>8.493150</td>\n",
              "      <td>-4.622800</td>\n",
              "      <td>8.737525</td>\n",
              "      <td>5.252425</td>\n",
              "      <td>9.879150</td>\n",
              "      <td>-11.082500</td>\n",
              "      <td>4.766200</td>\n",
              "      <td>13.870875</td>\n",
              "      <td>-2.344850</td>\n",
              "      <td>...</td>\n",
              "      <td>14.257800</td>\n",
              "      <td>7.525900</td>\n",
              "      <td>-10.698300</td>\n",
              "      <td>9.193600</td>\n",
              "      <td>6.197900</td>\n",
              "      <td>8.541400</td>\n",
              "      <td>11.620125</td>\n",
              "      <td>2.153575</td>\n",
              "      <td>-0.165000</td>\n",
              "      <td>4.997925</td>\n",
              "    </tr>\n",
              "    <tr>\n",
              "      <th>50%</th>\n",
              "      <td>0.000000</td>\n",
              "      <td>10.525200</td>\n",
              "      <td>-1.482300</td>\n",
              "      <td>10.583200</td>\n",
              "      <td>6.822050</td>\n",
              "      <td>11.131200</td>\n",
              "      <td>-4.539400</td>\n",
              "      <td>5.389200</td>\n",
              "      <td>16.378200</td>\n",
              "      <td>0.318300</td>\n",
              "      <td>...</td>\n",
              "      <td>14.579900</td>\n",
              "      <td>9.286300</td>\n",
              "      <td>-5.709500</td>\n",
              "      <td>15.002500</td>\n",
              "      <td>12.384000</td>\n",
              "      <td>13.124200</td>\n",
              "      <td>17.232300</td>\n",
              "      <td>4.324000</td>\n",
              "      <td>3.599600</td>\n",
              "      <td>5.546650</td>\n",
              "    </tr>\n",
              "    <tr>\n",
              "      <th>75%</th>\n",
              "      <td>0.000000</td>\n",
              "      <td>12.766500</td>\n",
              "      <td>1.400900</td>\n",
              "      <td>12.490425</td>\n",
              "      <td>8.366050</td>\n",
              "      <td>12.229175</td>\n",
              "      <td>1.004200</td>\n",
              "      <td>6.008900</td>\n",
              "      <td>19.028450</td>\n",
              "      <td>2.925400</td>\n",
              "      <td>...</td>\n",
              "      <td>14.882600</td>\n",
              "      <td>11.116900</td>\n",
              "      <td>-0.823200</td>\n",
              "      <td>20.866300</td>\n",
              "      <td>18.415850</td>\n",
              "      <td>17.865850</td>\n",
              "      <td>23.101725</td>\n",
              "      <td>6.371025</td>\n",
              "      <td>7.108975</td>\n",
              "      <td>6.106900</td>\n",
              "    </tr>\n",
              "    <tr>\n",
              "      <th>max</th>\n",
              "      <td>1.000000</td>\n",
              "      <td>20.315000</td>\n",
              "      <td>8.803000</td>\n",
              "      <td>18.405500</td>\n",
              "      <td>12.870000</td>\n",
              "      <td>15.558900</td>\n",
              "      <td>16.128700</td>\n",
              "      <td>7.986200</td>\n",
              "      <td>26.928200</td>\n",
              "      <td>8.650600</td>\n",
              "      <td>...</td>\n",
              "      <td>15.741600</td>\n",
              "      <td>16.126400</td>\n",
              "      <td>15.162300</td>\n",
              "      <td>37.724300</td>\n",
              "      <td>33.455800</td>\n",
              "      <td>28.720800</td>\n",
              "      <td>44.785300</td>\n",
              "      <td>13.260000</td>\n",
              "      <td>17.914000</td>\n",
              "      <td>7.850900</td>\n",
              "    </tr>\n",
              "  </tbody>\n",
              "</table>\n",
              "<p>8 rows × 26 columns</p>\n",
              "</div>\n",
              "      <button class=\"colab-df-convert\" onclick=\"convertToInteractive('df-ed22c512-1866-4e5d-86d6-f7ab8ba2b172')\"\n",
              "              title=\"Convert this dataframe to an interactive table.\"\n",
              "              style=\"display:none;\">\n",
              "        \n",
              "  <svg xmlns=\"http://www.w3.org/2000/svg\" height=\"24px\"viewBox=\"0 0 24 24\"\n",
              "       width=\"24px\">\n",
              "    <path d=\"M0 0h24v24H0V0z\" fill=\"none\"/>\n",
              "    <path d=\"M18.56 5.44l.94 2.06.94-2.06 2.06-.94-2.06-.94-.94-2.06-.94 2.06-2.06.94zm-11 1L8.5 8.5l.94-2.06 2.06-.94-2.06-.94L8.5 2.5l-.94 2.06-2.06.94zm10 10l.94 2.06.94-2.06 2.06-.94-2.06-.94-.94-2.06-.94 2.06-2.06.94z\"/><path d=\"M17.41 7.96l-1.37-1.37c-.4-.4-.92-.59-1.43-.59-.52 0-1.04.2-1.43.59L10.3 9.45l-7.72 7.72c-.78.78-.78 2.05 0 2.83L4 21.41c.39.39.9.59 1.41.59.51 0 1.02-.2 1.41-.59l7.78-7.78 2.81-2.81c.8-.78.8-2.07 0-2.86zM5.41 20L4 18.59l7.72-7.72 1.47 1.35L5.41 20z\"/>\n",
              "  </svg>\n",
              "      </button>\n",
              "      \n",
              "  <style>\n",
              "    .colab-df-container {\n",
              "      display:flex;\n",
              "      flex-wrap:wrap;\n",
              "      gap: 12px;\n",
              "    }\n",
              "\n",
              "    .colab-df-convert {\n",
              "      background-color: #E8F0FE;\n",
              "      border: none;\n",
              "      border-radius: 50%;\n",
              "      cursor: pointer;\n",
              "      display: none;\n",
              "      fill: #1967D2;\n",
              "      height: 32px;\n",
              "      padding: 0 0 0 0;\n",
              "      width: 32px;\n",
              "    }\n",
              "\n",
              "    .colab-df-convert:hover {\n",
              "      background-color: #E2EBFA;\n",
              "      box-shadow: 0px 1px 2px rgba(60, 64, 67, 0.3), 0px 1px 3px 1px rgba(60, 64, 67, 0.15);\n",
              "      fill: #174EA6;\n",
              "    }\n",
              "\n",
              "    [theme=dark] .colab-df-convert {\n",
              "      background-color: #3B4455;\n",
              "      fill: #D2E3FC;\n",
              "    }\n",
              "\n",
              "    [theme=dark] .colab-df-convert:hover {\n",
              "      background-color: #434B5C;\n",
              "      box-shadow: 0px 1px 3px 1px rgba(0, 0, 0, 0.15);\n",
              "      filter: drop-shadow(0px 1px 2px rgba(0, 0, 0, 0.3));\n",
              "      fill: #FFFFFF;\n",
              "    }\n",
              "  </style>\n",
              "\n",
              "      <script>\n",
              "        const buttonEl =\n",
              "          document.querySelector('#df-ed22c512-1866-4e5d-86d6-f7ab8ba2b172 button.colab-df-convert');\n",
              "        buttonEl.style.display =\n",
              "          google.colab.kernel.accessAllowed ? 'block' : 'none';\n",
              "\n",
              "        async function convertToInteractive(key) {\n",
              "          const element = document.querySelector('#df-ed22c512-1866-4e5d-86d6-f7ab8ba2b172');\n",
              "          const dataTable =\n",
              "            await google.colab.kernel.invokeFunction('convertToInteractive',\n",
              "                                                     [key], {});\n",
              "          if (!dataTable) return;\n",
              "\n",
              "          const docLinkHtml = 'Like what you see? Visit the ' +\n",
              "            '<a target=\"_blank\" href=https://colab.research.google.com/notebooks/data_table.ipynb>data table notebook</a>'\n",
              "            + ' to learn more about interactive tables.';\n",
              "          element.innerHTML = '';\n",
              "          dataTable['output_type'] = 'display_data';\n",
              "          await google.colab.output.renderOutput(dataTable, element);\n",
              "          const docLink = document.createElement('div');\n",
              "          docLink.innerHTML = docLinkHtml;\n",
              "          element.appendChild(docLink);\n",
              "        }\n",
              "      </script>\n",
              "    </div>\n",
              "  </div>\n",
              "  "
            ]
          },
          "metadata": {},
          "execution_count": 363
        }
      ]
    },
    {
      "cell_type": "code",
      "source": [
        "train['Y'].value_counts()"
      ],
      "metadata": {
        "colab": {
          "base_uri": "https://localhost:8080/",
          "height": 0
        },
        "id": "Jo0UA7RohWh1",
        "outputId": "cda86992-b99c-4c6c-d017-4cf1cc7e6413"
      },
      "execution_count": 364,
      "outputs": [
        {
          "output_type": "execute_result",
          "data": {
            "text/plain": [
              "0    9738\n",
              "1    1062\n",
              "Name: Y, dtype: int64"
            ]
          },
          "metadata": {},
          "execution_count": 364
        }
      ]
    },
    {
      "cell_type": "code",
      "source": [
        "train.columns"
      ],
      "metadata": {
        "colab": {
          "base_uri": "https://localhost:8080/",
          "height": 0
        },
        "id": "vU7jXLz6jbS4",
        "outputId": "3de7ec40-63d3-4d6d-9f2e-65c662fb3623"
      },
      "execution_count": 365,
      "outputs": [
        {
          "output_type": "execute_result",
          "data": {
            "text/plain": [
              "Index(['Y', 'Var1', 'Var2', 'Var3', 'Var4', 'Var5', 'Var6', 'Var7', 'Var8',\n",
              "       'Var9', 'Var10', 'Var11', 'Var12', 'Var13', 'Var14', 'Var15', 'Var16',\n",
              "       'Var17', 'Var18', 'Var19', 'Var20', 'Var21', 'Var22', 'Var23', 'Var24',\n",
              "       'Var25'],\n",
              "      dtype='object')"
            ]
          },
          "metadata": {},
          "execution_count": 365
        }
      ]
    },
    {
      "cell_type": "code",
      "source": [
        "##Check if there is null values\n",
        "train.isna().sum()"
      ],
      "metadata": {
        "colab": {
          "base_uri": "https://localhost:8080/",
          "height": 0
        },
        "id": "1a54RnoihXtE",
        "outputId": "9d86f7f4-8717-4466-af0c-81a1b3298a28"
      },
      "execution_count": 366,
      "outputs": [
        {
          "output_type": "execute_result",
          "data": {
            "text/plain": [
              "Y           0\n",
              "Var1     2369\n",
              "Var2     2371\n",
              "Var3     2376\n",
              "Var4     2428\n",
              "Var5     2362\n",
              "Var6     2443\n",
              "Var7     2399\n",
              "Var8     2384\n",
              "Var9     2353\n",
              "Var10    2419\n",
              "Var11    2406\n",
              "Var12    2421\n",
              "Var13    2340\n",
              "Var14    2376\n",
              "Var15    2398\n",
              "Var16    2395\n",
              "Var17    2351\n",
              "Var18    2371\n",
              "Var19    2435\n",
              "Var20    2401\n",
              "Var21    2377\n",
              "Var22       0\n",
              "Var23       0\n",
              "Var24       0\n",
              "Var25       0\n",
              "dtype: int64"
            ]
          },
          "metadata": {},
          "execution_count": 366
        }
      ]
    },
    {
      "cell_type": "code",
      "source": [
        "X = train.drop(\"Y\", axis = 1)\n",
        "y = train[\"Y\"]\n",
        "print(X.shape)\n",
        "print(y.shape)"
      ],
      "metadata": {
        "colab": {
          "base_uri": "https://localhost:8080/",
          "height": 0
        },
        "id": "2iy_skthiGG8",
        "outputId": "3e96d6e1-88e5-44fb-ffb0-9922e4bc2780"
      },
      "execution_count": 367,
      "outputs": [
        {
          "output_type": "stream",
          "name": "stdout",
          "text": [
            "(10800, 25)\n",
            "(10800,)\n"
          ]
        }
      ]
    },
    {
      "cell_type": "markdown",
      "source": [
        "There are 25 vairables and 10800 observations in the train dataset. In each 21 columns of the 25 variables, there are 2300-2500 observations with null values and the data is unbalanced, the positive class ('Y'=1) account for 10% of all transactions "
      ],
      "metadata": {
        "id": "CqxiJYwDiNq2"
      }
    },
    {
      "cell_type": "markdown",
      "source": [
        "##Visualizing Data"
      ],
      "metadata": {
        "id": "Qp4gpsj6kss2"
      }
    },
    {
      "cell_type": "markdown",
      "source": [
        "###Observe the Data Balance"
      ],
      "metadata": {
        "id": "jwWpTSPfldCb"
      }
    },
    {
      "cell_type": "code",
      "source": [
        "sns.countplot(x = y)\n",
        "plt.title(\"Bar Graph of 0 and 1 in Fraud Class\")"
      ],
      "metadata": {
        "colab": {
          "base_uri": "https://localhost:8080/",
          "height": 349
        },
        "id": "5CrwmlWvlC-R",
        "outputId": "4ec40cd2-eee0-42ac-9434-d34be7d1f433"
      },
      "execution_count": 368,
      "outputs": [
        {
          "output_type": "execute_result",
          "data": {
            "text/plain": [
              "Text(0.5, 1.0, 'Bar Graph of 0 and 1 in Fraud Class')"
            ]
          },
          "metadata": {},
          "execution_count": 368
        },
        {
          "output_type": "display_data",
          "data": {
            "text/plain": [
              "<Figure size 432x288 with 1 Axes>"
            ],
            "image/png": "[encoded data removed]"
          },
          "metadata": {}
        }
      ]
    },
    {
      "cell_type": "markdown",
      "source": [
        "###Visualizing Correlation Matrix of features"
      ],
      "metadata": {
        "id": "eawU25zjmJIQ"
      }
    },
    {
      "cell_type": "code",
      "source": [
        "df = pd.DataFrame(train)\n",
        "df_corr = df.corr()\n",
        "plt.figure(figsize=(6,5))\n",
        "sns.heatmap(df_corr, cmap='Blues')\n",
        "sns.set(font_scale=2,style='white')\n",
        "\n",
        "plt.title('Heatmap correlation')\n",
        "plt.show()"
      ],
      "metadata": {
        "colab": {
          "base_uri": "https://localhost:8080/",
          "height": 401
        },
        "id": "6gp_QBbomHwd",
        "outputId": "dbda380a-4d61-48ca-b5cb-b3bbeb8f418e"
      },
      "execution_count": 369,
      "outputs": [
        {
          "output_type": "display_data",
          "data": {
            "text/plain": [
              "<Figure size 432x360 with 2 Axes>"
            ],
            "image/png": "[encoded data removed]"
          },
          "metadata": {}
        }
      ]
    },
    {
      "cell_type": "markdown",
      "source": [
        "As we can see, there is very less correlation between main features (Var1 to Var25)"
      ],
      "metadata": {
        "id": "9Xo4UYbtmjX8"
      }
    },
    {
      "cell_type": "markdown",
      "source": [
        "## Scale the data"
      ],
      "metadata": {
        "id": "CTTIyJnsy9gF"
      }
    },
    {
      "cell_type": "markdown",
      "source": [
        "There are many missing values in the data, which could cause problems with the training of our model later on. The features are all numeric data and the dataset is medium, as we observed before, therefore, we choose to replace missing values with columns' median."
      ],
      "metadata": {
        "id": "IJTymoVe0GcO"
      }
    },
    {
      "cell_type": "code",
      "source": [
        "num_cols = ['Var1', 'Var2', 'Var3', 'Var4', 'Var5', 'Var6', 'Var7', 'Var8',\n",
        "       'Var9', 'Var10', 'Var11', 'Var12', 'Var13', 'Var14', 'Var15', 'Var16',\n",
        "       'Var17', 'Var18', 'Var19', 'Var20', 'Var21', 'Var22', 'Var23', 'Var24',\n",
        "       'Var25']\n",
        "num_si_step = ('si', SimpleImputer(strategy='median'))\n",
        "num_ss_step = ('ss', StandardScaler())\n",
        "num_steps = [num_si_step, num_ss_step]\n",
        "\n",
        "num_pipe = Pipeline(num_steps)\n",
        "num_transformers = [('num', num_pipe, num_cols)]\n",
        "\n",
        "ct = ColumnTransformer(transformers=num_transformers)\n",
        "\n",
        "X_num_transformed = ct.fit_transform(train)\n",
        "X_num_transformed.shape"
      ],
      "metadata": {
        "colab": {
          "base_uri": "https://localhost:8080/",
          "height": 0
        },
        "id": "jD3hC3A0zljt",
        "outputId": "f4d9a01e-4efd-447f-b69e-919d695ad393"
      },
      "execution_count": 370,
      "outputs": [
        {
          "output_type": "execute_result",
          "data": {
            "text/plain": [
              "(10800, 25)"
            ]
          },
          "metadata": {},
          "execution_count": 370
        }
      ]
    },
    {
      "cell_type": "code",
      "source": [
        "labels = train['Y'].values\n",
        "labels.shape"
      ],
      "metadata": {
        "colab": {
          "base_uri": "https://localhost:8080/",
          "height": 0
        },
        "id": "_FZCyfXwV-6U",
        "outputId": "be892814-2021-415a-9d23-b71a26172f6c"
      },
      "execution_count": 371,
      "outputs": [
        {
          "output_type": "execute_result",
          "data": {
            "text/plain": [
              "(10800,)"
            ]
          },
          "metadata": {},
          "execution_count": 371
        }
      ]
    },
    {
      "cell_type": "markdown",
      "source": [
        "##Feature Selection"
      ],
      "metadata": {
        "id": "LiWk28SBr1_q"
      }
    },
    {
      "cell_type": "markdown",
      "source": [
        "Feature importance scores can be used for feature selection. We calculate the feature importance score using the Extreme Gradient Boosting Classifier, a new method to us. We try it because it can handle the NA values and we want the feature selection can be independent from missing values imputation. The plot shows that the fscores of the variables are relatively even. Based on the feature importance score and correlation matrix, we decide using all the features to train the model."
      ],
      "metadata": {
        "id": "eSqJqNFXvbox"
      }
    },
    {
      "cell_type": "code",
      "source": [
        "#Calculate F Score using XGBClassifier\n",
        "xgb = XGBClassifier()\n",
        "xgb.fit(X, y)\n",
        "\n",
        "print(xgb.feature_importances_)"
      ],
      "metadata": {
        "colab": {
          "base_uri": "https://localhost:8080/",
          "height": 0
        },
        "id": "4ERzkSkdr4TH",
        "outputId": "4e09aff8-18d1-4b92-e6fb-b6c8e04a0d26"
      },
      "execution_count": 372,
      "outputs": [
        {
          "output_type": "stream",
          "name": "stdout",
          "text": [
            "[0.04133776 0.05112833 0.03696365 0.0366514  0.03879234 0.03617461\n",
            " 0.04874695 0.03297965 0.03630921 0.04380286 0.03478123 0.04296348\n",
            " 0.04893994 0.04453174 0.04247182 0.03954437 0.03496708 0.03346421\n",
            " 0.0451227  0.03806745 0.03399083 0.0432881  0.04849649 0.03049842\n",
            " 0.03598537]\n"
          ]
        }
      ]
    },
    {
      "cell_type": "code",
      "source": [
        "f_xgb = pd.DataFrame(data={'Feature':X.columns,'Value':xgb.feature_importances_})\n",
        "f_xgb = f_xgb.sort_values(['Value'],ascending=False )\n",
        "plt.figure(figsize=(15,8))\n",
        "sns.barplot(f_xgb['Feature'],f_xgb['Value'])\n",
        "plt.gcf().set_size_inches(30,10)"
      ],
      "metadata": {
        "colab": {
          "base_uri": "https://localhost:8080/",
          "height": 550
        },
        "id": "CPLi5QDytRjU",
        "outputId": "efee3069-23f5-405b-c3cb-7cc706ab4a77"
      },
      "execution_count": 373,
      "outputs": [
        {
          "output_type": "stream",
          "name": "stderr",
          "text": [
            "/usr/local/lib/python3.7/dist-packages/seaborn/_decorators.py:43: FutureWarning: Pass the following variables as keyword args: x, y. From version 0.12, the only valid positional argument will be `data`, and passing other arguments without an explicit keyword will result in an error or misinterpretation.\n",
            "  FutureWarning\n"
          ]
        },
        {
          "output_type": "display_data",
          "data": {
            "text/plain": [
              "<Figure size 2160x720 with 1 Axes>"
            ],
            "image/png": "[encoded data removed]"
          },
          "metadata": {}
        }
      ]
    },
    {
      "cell_type": "markdown",
      "source": [
        "##Train-Test Split"
      ],
      "metadata": {
        "id": "w_OZRb0tSsVx"
      }
    },
    {
      "cell_type": "code",
      "source": [
        "X_train, X_test, y_train, y_test = train_test_split(X_num_transformed, labels,test_size=.1, random_state=0)\n",
        "print(X_train.shape)\n",
        "print(y_test.shape)\n",
        "print(X_test.shape)\n",
        "print(y_train.shape)"
      ],
      "metadata": {
        "colab": {
          "base_uri": "https://localhost:8080/",
          "height": 0
        },
        "id": "sh0vAUoeSrcJ",
        "outputId": "aa38cc6e-03e9-46f8-89ab-ed9a0edd9cbf"
      },
      "execution_count": 374,
      "outputs": [
        {
          "output_type": "stream",
          "name": "stdout",
          "text": [
            "(9720, 25)\n",
            "(1080,)\n",
            "(1080, 25)\n",
            "(9720,)\n"
          ]
        }
      ]
    },
    {
      "cell_type": "markdown",
      "source": [
        "#**Baseline Models**"
      ],
      "metadata": {
        "id": "OvKsNEph2G5v"
      }
    },
    {
      "cell_type": "markdown",
      "source": [
        "This part examines five classification models including Logistic Regression, KNeighborsClassifier, Random Forest, GradientBoostingClassifier, and HistGradientBoostingClassifier with their default parameters. We chose HistGradientBoostingClassifier because there are NA values in the raw data, and the model can be trained with missing values, so we will train it with raw data. Next, we'll select one model to tune parameters. Accuracy is mainly measured by ROC-AUC, but accuracy score and classification report will also be considered."
      ],
      "metadata": {
        "id": "AWmL17hBQ1wI"
      }
    },
    {
      "cell_type": "markdown",
      "source": [
        "##Logistic Regression"
      ],
      "metadata": {
        "id": "i18NIb5NWPgw"
      }
    },
    {
      "cell_type": "code",
      "source": [
        "lr = LogisticRegression()\n",
        "lr.fit(X_train, y_train)\n",
        "pred_lr = lr.predict(X_test)"
      ],
      "metadata": {
        "id": "jLhEHTifXheU"
      },
      "execution_count": 375,
      "outputs": []
    },
    {
      "cell_type": "code",
      "source": [
        "pred_proba_lr = lr.predict_proba(X_test)[:,1]\n",
        "pred_proba_lr"
      ],
      "metadata": {
        "colab": {
          "base_uri": "https://localhost:8080/",
          "height": 0
        },
        "id": "_L5Eb-8sYWnC",
        "outputId": "4dfc12f2-6236-47fd-852a-9f452304417b"
      },
      "execution_count": 376,
      "outputs": [
        {
          "output_type": "execute_result",
          "data": {
            "text/plain": [
              "array([0.27977383, 0.10491382, 0.1340248 , ..., 0.09007307, 0.12578598,\n",
              "       0.1390702 ])"
            ]
          },
          "metadata": {},
          "execution_count": 376
        }
      ]
    },
    {
      "cell_type": "code",
      "source": [
        "print(accuracy_score(y_test, pred_lr))\n",
        "roc_auc_score(y_test, lr.decision_function(X_test))"
      ],
      "metadata": {
        "colab": {
          "base_uri": "https://localhost:8080/",
          "height": 0
        },
        "id": "XbM8yrw7ZSHp",
        "outputId": "506266e5-e92b-4c86-85cb-68475e339302"
      },
      "execution_count": 377,
      "outputs": [
        {
          "output_type": "stream",
          "name": "stdout",
          "text": [
            "0.9\n"
          ]
        },
        {
          "output_type": "execute_result",
          "data": {
            "text/plain": [
              "0.6054907788446883"
            ]
          },
          "metadata": {},
          "execution_count": 377
        }
      ]
    },
    {
      "cell_type": "code",
      "source": [
        "fpr, tpr, threshold = metrics.roc_curve(y_test, pred_proba_lr)\n",
        "roc_auc = metrics.auc(fpr, tpr)\n",
        "plt.figure(figsize=(6,6))\n",
        "plt.title('Validation ROC')\n",
        "plt.plot(fpr, tpr, 'b', label = 'Val AUC = %0.3f' % roc_auc)\n",
        "plt.legend(loc = 'lower right')\n",
        "plt.plot([0, 1], [0, 1],'r--')\n",
        "plt.xlim([0, 1])\n",
        "plt.ylim([0, 1])\n",
        "plt.ylabel('True Positive Rate')\n",
        "plt.xlabel('False Positive Rate')\n",
        "plt.show()"
      ],
      "metadata": {
        "colab": {
          "base_uri": "https://localhost:8080/",
          "height": 440
        },
        "id": "MBP4MwQwZDsf",
        "outputId": "344d5b52-33cb-49c5-8889-44ceccdb3b26"
      },
      "execution_count": 378,
      "outputs": [
        {
          "output_type": "display_data",
          "data": {
            "text/plain": [
              "<Figure size 432x432 with 1 Axes>"
            ],
            "image/png": "[encoded data removed]"
          },
          "metadata": {}
        }
      ]
    },
    {
      "cell_type": "code",
      "source": [
        "print(classification_report(y_test, pred_lr))"
      ],
      "metadata": {
        "colab": {
          "base_uri": "https://localhost:8080/",
          "height": 0
        },
        "id": "y3j4dmGfihNk",
        "outputId": "04447e40-c1d8-4567-9e0b-6eebade76535"
      },
      "execution_count": 379,
      "outputs": [
        {
          "output_type": "stream",
          "name": "stdout",
          "text": [
            "              precision    recall  f1-score   support\n",
            "\n",
            "           0       0.90      1.00      0.95       972\n",
            "           1       0.00      0.00      0.00       108\n",
            "\n",
            "    accuracy                           0.90      1080\n",
            "   macro avg       0.45      0.50      0.47      1080\n",
            "weighted avg       0.81      0.90      0.85      1080\n",
            "\n"
          ]
        },
        {
          "output_type": "stream",
          "name": "stderr",
          "text": [
            "/usr/local/lib/python3.7/dist-packages/sklearn/metrics/_classification.py:1318: UndefinedMetricWarning: Precision and F-score are ill-defined and being set to 0.0 in labels with no predicted samples. Use `zero_division` parameter to control this behavior.\n",
            "  _warn_prf(average, modifier, msg_start, len(result))\n",
            "/usr/local/lib/python3.7/dist-packages/sklearn/metrics/_classification.py:1318: UndefinedMetricWarning: Precision and F-score are ill-defined and being set to 0.0 in labels with no predicted samples. Use `zero_division` parameter to control this behavior.\n",
            "  _warn_prf(average, modifier, msg_start, len(result))\n",
            "/usr/local/lib/python3.7/dist-packages/sklearn/metrics/_classification.py:1318: UndefinedMetricWarning: Precision and F-score are ill-defined and being set to 0.0 in labels with no predicted samples. Use `zero_division` parameter to control this behavior.\n",
            "  _warn_prf(average, modifier, msg_start, len(result))\n"
          ]
        }
      ]
    },
    {
      "cell_type": "markdown",
      "source": [
        "##KNN"
      ],
      "metadata": {
        "id": "NGnS1o-iZtEZ"
      }
    },
    {
      "cell_type": "code",
      "source": [
        "knn=KNeighborsClassifier()\n",
        "knn.fit(X_train, y_train)\n",
        "pred_knn = knn.predict(X_test)"
      ],
      "metadata": {
        "id": "TAswiu-_Z1Ra"
      },
      "execution_count": 380,
      "outputs": []
    },
    {
      "cell_type": "code",
      "source": [
        "pred_proba_k = knn.predict_proba(X_test)[:,1]\n",
        "pred_proba_k"
      ],
      "metadata": {
        "colab": {
          "base_uri": "https://localhost:8080/",
          "height": 0
        },
        "id": "TUOJRS9SaIB-",
        "outputId": "d3d76723-b264-46c0-c651-eb22177cb8a6"
      },
      "execution_count": 381,
      "outputs": [
        {
          "output_type": "execute_result",
          "data": {
            "text/plain": [
              "array([0.2, 0. , 0.2, ..., 0.2, 0. , 0. ])"
            ]
          },
          "metadata": {},
          "execution_count": 381
        }
      ]
    },
    {
      "cell_type": "code",
      "source": [
        "print(accuracy_score(y_test, pred_knn))\n",
        "roc_auc_score(y_test, pred_proba_k)"
      ],
      "metadata": {
        "colab": {
          "base_uri": "https://localhost:8080/",
          "height": 0
        },
        "id": "XNgK7MH7aKdP",
        "outputId": "b841e118-5627-4969-8f5f-389c10b5da18"
      },
      "execution_count": 382,
      "outputs": [
        {
          "output_type": "stream",
          "name": "stdout",
          "text": [
            "0.8944444444444445\n"
          ]
        },
        {
          "output_type": "execute_result",
          "data": {
            "text/plain": [
              "0.5346841182746533"
            ]
          },
          "metadata": {},
          "execution_count": 382
        }
      ]
    },
    {
      "cell_type": "code",
      "source": [
        "fpr, tpr, threshold = metrics.roc_curve(y_test, pred_proba_k)\n",
        "roc_auc = metrics.auc(fpr, tpr)\n",
        "plt.figure(figsize=(6,6))\n",
        "plt.title('Validation ROC')\n",
        "plt.plot(fpr, tpr, 'b', label = 'Val AUC = %0.3f' % roc_auc)\n",
        "plt.legend(loc = 'lower right')\n",
        "plt.plot([0, 1], [0, 1],'r--')\n",
        "plt.xlim([0, 1])\n",
        "plt.ylim([0, 1])\n",
        "plt.ylabel('True Positive Rate')\n",
        "plt.xlabel('False Positive Rate')\n",
        "plt.show()"
      ],
      "metadata": {
        "colab": {
          "base_uri": "https://localhost:8080/",
          "height": 440
        },
        "id": "ixB8SPCUaMUs",
        "outputId": "fc138eef-7667-47d1-ed1c-e7c89fbc5255"
      },
      "execution_count": 383,
      "outputs": [
        {
          "output_type": "display_data",
          "data": {
            "text/plain": [
              "<Figure size 432x432 with 1 Axes>"
            ],
            "image/png": "[encoded data removed]"
          },
          "metadata": {}
        }
      ]
    },
    {
      "cell_type": "code",
      "source": [
        "print(classification_report(y_test, pred_knn))"
      ],
      "metadata": {
        "colab": {
          "base_uri": "https://localhost:8080/",
          "height": 0
        },
        "id": "G3qyTdTiiXM8",
        "outputId": "9c9654df-b59d-4e01-b58c-63ffec771faf"
      },
      "execution_count": 384,
      "outputs": [
        {
          "output_type": "stream",
          "name": "stdout",
          "text": [
            "              precision    recall  f1-score   support\n",
            "\n",
            "           0       0.90      0.99      0.94       972\n",
            "           1       0.20      0.02      0.03       108\n",
            "\n",
            "    accuracy                           0.89      1080\n",
            "   macro avg       0.55      0.51      0.49      1080\n",
            "weighted avg       0.83      0.89      0.85      1080\n",
            "\n"
          ]
        }
      ]
    },
    {
      "cell_type": "markdown",
      "source": [
        "##Random Forest"
      ],
      "metadata": {
        "id": "SIw67D8-aTSM"
      }
    },
    {
      "cell_type": "code",
      "source": [
        "rf = RandomForestClassifier()\n",
        "rf.fit(X_train, y_train)\n",
        "pred_rf = rf.predict(X_test)"
      ],
      "metadata": {
        "id": "11cyoLk2aVpA"
      },
      "execution_count": 385,
      "outputs": []
    },
    {
      "cell_type": "code",
      "source": [
        "pred_proba_rf = rf.predict_proba(X_test)[:,1]\n",
        "pred_proba_rf"
      ],
      "metadata": {
        "colab": {
          "base_uri": "https://localhost:8080/",
          "height": 0
        },
        "id": "JXWJVhnOaVpA",
        "outputId": "f985e929-3392-4f49-e8af-96344d1327b6"
      },
      "execution_count": 386,
      "outputs": [
        {
          "output_type": "execute_result",
          "data": {
            "text/plain": [
              "array([0.23, 0.1 , 0.11, ..., 0.08, 0.07, 0.07])"
            ]
          },
          "metadata": {},
          "execution_count": 386
        }
      ]
    },
    {
      "cell_type": "code",
      "source": [
        "print(accuracy_score(y_test, pred_rf))\n",
        "roc_auc_score(y_test, pred_proba_rf)"
      ],
      "metadata": {
        "colab": {
          "base_uri": "https://localhost:8080/",
          "height": 0
        },
        "id": "wxoP5EFhaVpA",
        "outputId": "5338e667-d13f-4aca-bd54-3d6bd08c29b4"
      },
      "execution_count": 387,
      "outputs": [
        {
          "output_type": "stream",
          "name": "stdout",
          "text": [
            "0.899074074074074\n"
          ]
        },
        {
          "output_type": "execute_result",
          "data": {
            "text/plain": [
              "0.6200988797439414"
            ]
          },
          "metadata": {},
          "execution_count": 387
        }
      ]
    },
    {
      "cell_type": "code",
      "source": [
        "fpr, tpr, threshold = metrics.roc_curve(y_test, pred_proba_rf)\n",
        "roc_auc = metrics.auc(fpr, tpr)\n",
        "plt.figure(figsize=(6,6))\n",
        "plt.title('Validation ROC')\n",
        "plt.plot(fpr, tpr, 'b', label = 'Val AUC = %0.3f' % roc_auc)\n",
        "plt.legend(loc = 'lower right')\n",
        "plt.plot([0, 1], [0, 1],'r--')\n",
        "plt.xlim([0, 1])\n",
        "plt.ylim([0, 1])\n",
        "plt.ylabel('True Positive Rate')\n",
        "plt.xlabel('False Positive Rate')\n",
        "plt.show()"
      ],
      "metadata": {
        "colab": {
          "base_uri": "https://localhost:8080/",
          "height": 440
        },
        "id": "95jZvxj5aVpA",
        "outputId": "3e351059-767f-4de8-abde-245ed507ee7b"
      },
      "execution_count": 388,
      "outputs": [
        {
          "output_type": "display_data",
          "data": {
            "text/plain": [
              "<Figure size 432x432 with 1 Axes>"
            ],
            "image/png": "[encoded data removed]"
          },
          "metadata": {}
        }
      ]
    },
    {
      "cell_type": "code",
      "source": [
        "print(classification_report(y_test, pred_rf))"
      ],
      "metadata": {
        "colab": {
          "base_uri": "https://localhost:8080/",
          "height": 0
        },
        "id": "XiQJhTC1in4t",
        "outputId": "eadb55f4-23f6-45e8-f4cd-d7c5c683017a"
      },
      "execution_count": 389,
      "outputs": [
        {
          "output_type": "stream",
          "name": "stdout",
          "text": [
            "              precision    recall  f1-score   support\n",
            "\n",
            "           0       0.90      1.00      0.95       972\n",
            "           1       0.00      0.00      0.00       108\n",
            "\n",
            "    accuracy                           0.90      1080\n",
            "   macro avg       0.45      0.50      0.47      1080\n",
            "weighted avg       0.81      0.90      0.85      1080\n",
            "\n"
          ]
        }
      ]
    },
    {
      "cell_type": "markdown",
      "source": [
        "##Gradient Boosting Classifier"
      ],
      "metadata": {
        "id": "JxkolWZ9bLJu"
      }
    },
    {
      "cell_type": "code",
      "source": [
        "GBC = GradientBoostingClassifier()\n",
        "GBC.fit(X_train, y_train)\n",
        "pred_GBC = GBC.predict(X_test)"
      ],
      "metadata": {
        "id": "52vC6761cqss"
      },
      "execution_count": 390,
      "outputs": []
    },
    {
      "cell_type": "code",
      "source": [
        "pred_proba_GBC = GBC.predict_proba(X_test)[:,1]\n",
        "pred_proba_GBC"
      ],
      "metadata": {
        "colab": {
          "base_uri": "https://localhost:8080/",
          "height": 0
        },
        "outputId": "06883963-e6f2-4959-a71b-df3182f2a873",
        "id": "mOPK5l76cqss"
      },
      "execution_count": 391,
      "outputs": [
        {
          "output_type": "execute_result",
          "data": {
            "text/plain": [
              "array([0.26328101, 0.07258158, 0.09365214, ..., 0.08291227, 0.10063384,\n",
              "       0.09623653])"
            ]
          },
          "metadata": {},
          "execution_count": 391
        }
      ]
    },
    {
      "cell_type": "code",
      "source": [
        "print(accuracy_score(y_test, pred_GBC))\n",
        "roc_auc_score(y_test, pred_proba_GBC)"
      ],
      "metadata": {
        "colab": {
          "base_uri": "https://localhost:8080/",
          "height": 0
        },
        "outputId": "36ce4029-fb1c-4136-9b03-8a42e51ce18c",
        "id": "o7atnH1mcqst"
      },
      "execution_count": 392,
      "outputs": [
        {
          "output_type": "stream",
          "name": "stdout",
          "text": [
            "0.8981481481481481\n"
          ]
        },
        {
          "output_type": "execute_result",
          "data": {
            "text/plain": [
              "0.6203894223441548"
            ]
          },
          "metadata": {},
          "execution_count": 392
        }
      ]
    },
    {
      "cell_type": "code",
      "source": [
        "fpr, tpr, threshold = metrics.roc_curve(y_test, pred_proba_GBC)\n",
        "roc_auc = metrics.auc(fpr, tpr)\n",
        "plt.figure(figsize=(6,6))\n",
        "plt.title('Validation ROC')\n",
        "plt.plot(fpr, tpr, 'b', label = 'Val AUC = %0.3f' % roc_auc)\n",
        "plt.legend(loc = 'lower right')\n",
        "plt.plot([0, 1], [0, 1],'r--')\n",
        "plt.xlim([0, 1])\n",
        "plt.ylim([0, 1])\n",
        "plt.ylabel('True Positive Rate')\n",
        "plt.xlabel('False Positive Rate')\n",
        "plt.show()"
      ],
      "metadata": {
        "colab": {
          "base_uri": "https://localhost:8080/",
          "height": 440
        },
        "outputId": "488a3427-c14d-4475-e9fb-857c2a518156",
        "id": "6ZxeT9iacqst"
      },
      "execution_count": 393,
      "outputs": [
        {
          "output_type": "display_data",
          "data": {
            "text/plain": [
              "<Figure size 432x432 with 1 Axes>"
            ],
            "image/png": "[encoded data removed]"
          },
          "metadata": {}
        }
      ]
    },
    {
      "cell_type": "code",
      "source": [
        "print(classification_report(y_test, pred_GBC))"
      ],
      "metadata": {
        "colab": {
          "base_uri": "https://localhost:8080/",
          "height": 0
        },
        "id": "8L3eoT47iv5l",
        "outputId": "57860b75-0285-47bc-b7df-a229c861fe08"
      },
      "execution_count": 394,
      "outputs": [
        {
          "output_type": "stream",
          "name": "stdout",
          "text": [
            "              precision    recall  f1-score   support\n",
            "\n",
            "           0       0.90      1.00      0.95       972\n",
            "           1       0.33      0.02      0.04       108\n",
            "\n",
            "    accuracy                           0.90      1080\n",
            "   macro avg       0.62      0.51      0.49      1080\n",
            "weighted avg       0.84      0.90      0.86      1080\n",
            "\n"
          ]
        }
      ]
    },
    {
      "cell_type": "markdown",
      "source": [
        "##HistGradientBoostingClassifier "
      ],
      "metadata": {
        "id": "Tmio1uqndVW7"
      }
    },
    {
      "cell_type": "code",
      "source": [
        "X_train1, X_test1, y_train1, y_test1 = train_test_split(X, y,test_size=.1)"
      ],
      "metadata": {
        "id": "Zj7TWxkod409"
      },
      "execution_count": 395,
      "outputs": []
    },
    {
      "cell_type": "code",
      "source": [
        "pd.DataFrame(X_train1)"
      ],
      "metadata": {
        "colab": {
          "base_uri": "https://localhost:8080/",
          "height": 488
        },
        "id": "PsxyjnpLfoD6",
        "outputId": "009d3f35-3fcf-4bd9-cfe3-83dfc22c8c77"
      },
      "execution_count": 396,
      "outputs": [
        {
          "output_type": "execute_result",
          "data": {
            "text/plain": [
              "          Var1    Var2     Var3     Var4     Var5     Var6    Var7     Var8  \\\n",
              "7404    6.3020 -6.2594   9.8574   6.9316   8.6801   0.5442  6.2204      NaN   \n",
              "7823   16.2131     NaN  14.6117   5.1260      NaN      NaN  5.7025      NaN   \n",
              "504    10.8382  0.4223   7.7905   8.4910   9.1841  -7.2718     NaN  15.2296   \n",
              "9512   12.3717 -0.7374   8.9582   4.9482  10.3156  -6.4860     NaN  20.2737   \n",
              "7421   15.1114  0.9359  15.4063   5.8997  11.0361 -17.9907     NaN  14.0604   \n",
              "...        ...     ...      ...      ...      ...      ...     ...      ...   \n",
              "368     6.0463     NaN  12.6329   6.6294   9.2953   4.0116  5.4612  12.5536   \n",
              "1183   12.7043     NaN  10.8366  12.1264   8.8449   3.7087  5.3716  21.5695   \n",
              "10512   9.0427     NaN   9.5443      NaN      NaN  -0.7791     NaN  17.5419   \n",
              "4117   14.8195  5.8222  10.5616      NaN   9.7147      NaN  5.3787  22.2014   \n",
              "8004       NaN -3.3968   6.8010      NaN  13.5134  11.9066  4.5143      NaN   \n",
              "\n",
              "         Var9   Var10  ...    Var16    Var17    Var18    Var19    Var20  \\\n",
              "7404  -1.0223  6.9150  ...  13.7930  11.5912  -0.3673   6.7823  22.0531   \n",
              "7823  -1.4550  8.1899  ...  14.4793   4.0788 -13.4581  12.2513   5.9688   \n",
              "504    5.2442  9.8734  ...      NaN   9.8767      NaN      NaN      NaN   \n",
              "9512      NaN  8.8533  ...  14.7275      NaN -12.4020   5.8150  18.9561   \n",
              "7421  -3.0555  6.1340  ...  14.0641   6.6566 -10.8661  14.1839      NaN   \n",
              "...       ...     ...  ...      ...      ...      ...      ...      ...   \n",
              "368       NaN  8.2288  ...      NaN   7.3113      NaN  23.9325  17.9881   \n",
              "1183      NaN     NaN  ...      NaN   5.8715  -8.6373  14.2338  11.5824   \n",
              "10512 -3.9030  7.8986  ...  13.6471   6.9440  -6.5668  31.2588   3.9774   \n",
              "4117   6.3506  7.8949  ...  13.9347  14.1338      NaN  13.2359  -0.1516   \n",
              "8004   4.7773  8.5789  ...  14.2688  11.2083 -16.1990  30.6839   6.7479   \n",
              "\n",
              "         Var21    Var22   Var23    Var24   Var25  \n",
              "7404   16.6981  10.6262  0.4266   4.3727  6.7186  \n",
              "7823   21.3414  11.6041  6.4722   2.1484  6.7953  \n",
              "504     5.5566  15.6346  5.3405   5.8797  5.0843  \n",
              "9512   15.6081  24.5760  3.3122   6.4880  3.8583  \n",
              "7421   11.7030  10.2082  4.6842   3.0490  5.9568  \n",
              "...        ...      ...     ...      ...     ...  \n",
              "368     7.2427  19.5322  7.9367  -0.2066  5.2988  \n",
              "1183   12.0336  13.6569  5.2709  -3.5544  5.1016  \n",
              "10512  -0.2563   6.6911  2.6729  -3.3829  5.8166  \n",
              "4117       NaN  12.5811  2.1807   4.2291  5.8656  \n",
              "8004       NaN  15.8456  4.3784  16.0477  6.3966  \n",
              "\n",
              "[9720 rows x 25 columns]"
            ],
            "text/html": [
              "\n",
              "  <div id=\"df-f0bcc6e0-13ea-41bf-975f-742fcc4d655b\">\n",
              "    <div class=\"colab-df-container\">\n",
              "      <div>\n",
              "<style scoped>\n",
              "    .dataframe tbody tr th:only-of-type {\n",
              "        vertical-align: middle;\n",
              "    }\n",
              "\n",
              "    .dataframe tbody tr th {\n",
              "        vertical-align: top;\n",
              "    }\n",
              "\n",
              "    .dataframe thead th {\n",
              "        text-align: right;\n",
              "    }\n",
              "</style>\n",
              "<table border=\"1\" class=\"dataframe\">\n",
              "  <thead>\n",
              "    <tr style=\"text-align: right;\">\n",
              "      <th></th>\n",
              "      <th>Var1</th>\n",
              "      <th>Var2</th>\n",
              "      <th>Var3</th>\n",
              "      <th>Var4</th>\n",
              "      <th>Var5</th>\n",
              "      <th>Var6</th>\n",
              "      <th>Var7</th>\n",
              "      <th>Var8</th>\n",
              "      <th>Var9</th>\n",
              "      <th>Var10</th>\n",
              "      <th>...</th>\n",
              "      <th>Var16</th>\n",
              "      <th>Var17</th>\n",
              "      <th>Var18</th>\n",
              "      <th>Var19</th>\n",
              "      <th>Var20</th>\n",
              "      <th>Var21</th>\n",
              "      <th>Var22</th>\n",
              "      <th>Var23</th>\n",
              "      <th>Var24</th>\n",
              "      <th>Var25</th>\n",
              "    </tr>\n",
              "  </thead>\n",
              "  <tbody>\n",
              "    <tr>\n",
              "      <th>7404</th>\n",
              "      <td>6.3020</td>\n",
              "      <td>-6.2594</td>\n",
              "      <td>9.8574</td>\n",
              "      <td>6.9316</td>\n",
              "      <td>8.6801</td>\n",
              "      <td>0.5442</td>\n",
              "      <td>6.2204</td>\n",
              "      <td>NaN</td>\n",
              "      <td>-1.0223</td>\n",
              "      <td>6.9150</td>\n",
              "      <td>...</td>\n",
              "      <td>13.7930</td>\n",
              "      <td>11.5912</td>\n",
              "      <td>-0.3673</td>\n",
              "      <td>6.7823</td>\n",
              "      <td>22.0531</td>\n",
              "      <td>16.6981</td>\n",
              "      <td>10.6262</td>\n",
              "      <td>0.4266</td>\n",
              "      <td>4.3727</td>\n",
              "      <td>6.7186</td>\n",
              "    </tr>\n",
              "    <tr>\n",
              "      <th>7823</th>\n",
              "      <td>16.2131</td>\n",
              "      <td>NaN</td>\n",
              "      <td>14.6117</td>\n",
              "      <td>5.1260</td>\n",
              "      <td>NaN</td>\n",
              "      <td>NaN</td>\n",
              "      <td>5.7025</td>\n",
              "      <td>NaN</td>\n",
              "      <td>-1.4550</td>\n",
              "      <td>8.1899</td>\n",
              "      <td>...</td>\n",
              "      <td>14.4793</td>\n",
              "      <td>4.0788</td>\n",
              "      <td>-13.4581</td>\n",
              "      <td>12.2513</td>\n",
              "      <td>5.9688</td>\n",
              "      <td>21.3414</td>\n",
              "      <td>11.6041</td>\n",
              "      <td>6.4722</td>\n",
              "      <td>2.1484</td>\n",
              "      <td>6.7953</td>\n",
              "    </tr>\n",
              "    <tr>\n",
              "      <th>504</th>\n",
              "      <td>10.8382</td>\n",
              "      <td>0.4223</td>\n",
              "      <td>7.7905</td>\n",
              "      <td>8.4910</td>\n",
              "      <td>9.1841</td>\n",
              "      <td>-7.2718</td>\n",
              "      <td>NaN</td>\n",
              "      <td>15.2296</td>\n",
              "      <td>5.2442</td>\n",
              "      <td>9.8734</td>\n",
              "      <td>...</td>\n",
              "      <td>NaN</td>\n",
              "      <td>9.8767</td>\n",
              "      <td>NaN</td>\n",
              "      <td>NaN</td>\n",
              "      <td>NaN</td>\n",
              "      <td>5.5566</td>\n",
              "      <td>15.6346</td>\n",
              "      <td>5.3405</td>\n",
              "      <td>5.8797</td>\n",
              "      <td>5.0843</td>\n",
              "    </tr>\n",
              "    <tr>\n",
              "      <th>9512</th>\n",
              "      <td>12.3717</td>\n",
              "      <td>-0.7374</td>\n",
              "      <td>8.9582</td>\n",
              "      <td>4.9482</td>\n",
              "      <td>10.3156</td>\n",
              "      <td>-6.4860</td>\n",
              "      <td>NaN</td>\n",
              "      <td>20.2737</td>\n",
              "      <td>NaN</td>\n",
              "      <td>8.8533</td>\n",
              "      <td>...</td>\n",
              "      <td>14.7275</td>\n",
              "      <td>NaN</td>\n",
              "      <td>-12.4020</td>\n",
              "      <td>5.8150</td>\n",
              "      <td>18.9561</td>\n",
              "      <td>15.6081</td>\n",
              "      <td>24.5760</td>\n",
              "      <td>3.3122</td>\n",
              "      <td>6.4880</td>\n",
              "      <td>3.8583</td>\n",
              "    </tr>\n",
              "    <tr>\n",
              "      <th>7421</th>\n",
              "      <td>15.1114</td>\n",
              "      <td>0.9359</td>\n",
              "      <td>15.4063</td>\n",
              "      <td>5.8997</td>\n",
              "      <td>11.0361</td>\n",
              "      <td>-17.9907</td>\n",
              "      <td>NaN</td>\n",
              "      <td>14.0604</td>\n",
              "      <td>-3.0555</td>\n",
              "      <td>6.1340</td>\n",
              "      <td>...</td>\n",
              "      <td>14.0641</td>\n",
              "      <td>6.6566</td>\n",
              "      <td>-10.8661</td>\n",
              "      <td>14.1839</td>\n",
              "      <td>NaN</td>\n",
              "      <td>11.7030</td>\n",
              "      <td>10.2082</td>\n",
              "      <td>4.6842</td>\n",
              "      <td>3.0490</td>\n",
              "      <td>5.9568</td>\n",
              "    </tr>\n",
              "    <tr>\n",
              "      <th>...</th>\n",
              "      <td>...</td>\n",
              "      <td>...</td>\n",
              "      <td>...</td>\n",
              "      <td>...</td>\n",
              "      <td>...</td>\n",
              "      <td>...</td>\n",
              "      <td>...</td>\n",
              "      <td>...</td>\n",
              "      <td>...</td>\n",
              "      <td>...</td>\n",
              "      <td>...</td>\n",
              "      <td>...</td>\n",
              "      <td>...</td>\n",
              "      <td>...</td>\n",
              "      <td>...</td>\n",
              "      <td>...</td>\n",
              "      <td>...</td>\n",
              "      <td>...</td>\n",
              "      <td>...</td>\n",
              "      <td>...</td>\n",
              "      <td>...</td>\n",
              "    </tr>\n",
              "    <tr>\n",
              "      <th>368</th>\n",
              "      <td>6.0463</td>\n",
              "      <td>NaN</td>\n",
              "      <td>12.6329</td>\n",
              "      <td>6.6294</td>\n",
              "      <td>9.2953</td>\n",
              "      <td>4.0116</td>\n",
              "      <td>5.4612</td>\n",
              "      <td>12.5536</td>\n",
              "      <td>NaN</td>\n",
              "      <td>8.2288</td>\n",
              "      <td>...</td>\n",
              "      <td>NaN</td>\n",
              "      <td>7.3113</td>\n",
              "      <td>NaN</td>\n",
              "      <td>23.9325</td>\n",
              "      <td>17.9881</td>\n",
              "      <td>7.2427</td>\n",
              "      <td>19.5322</td>\n",
              "      <td>7.9367</td>\n",
              "      <td>-0.2066</td>\n",
              "      <td>5.2988</td>\n",
              "    </tr>\n",
              "    <tr>\n",
              "      <th>1183</th>\n",
              "      <td>12.7043</td>\n",
              "      <td>NaN</td>\n",
              "      <td>10.8366</td>\n",
              "      <td>12.1264</td>\n",
              "      <td>8.8449</td>\n",
              "      <td>3.7087</td>\n",
              "      <td>5.3716</td>\n",
              "      <td>21.5695</td>\n",
              "      <td>NaN</td>\n",
              "      <td>NaN</td>\n",
              "      <td>...</td>\n",
              "      <td>NaN</td>\n",
              "      <td>5.8715</td>\n",
              "      <td>-8.6373</td>\n",
              "      <td>14.2338</td>\n",
              "      <td>11.5824</td>\n",
              "      <td>12.0336</td>\n",
              "      <td>13.6569</td>\n",
              "      <td>5.2709</td>\n",
              "      <td>-3.5544</td>\n",
              "      <td>5.1016</td>\n",
              "    </tr>\n",
              "    <tr>\n",
              "      <th>10512</th>\n",
              "      <td>9.0427</td>\n",
              "      <td>NaN</td>\n",
              "      <td>9.5443</td>\n",
              "      <td>NaN</td>\n",
              "      <td>NaN</td>\n",
              "      <td>-0.7791</td>\n",
              "      <td>NaN</td>\n",
              "      <td>17.5419</td>\n",
              "      <td>-3.9030</td>\n",
              "      <td>7.8986</td>\n",
              "      <td>...</td>\n",
              "      <td>13.6471</td>\n",
              "      <td>6.9440</td>\n",
              "      <td>-6.5668</td>\n",
              "      <td>31.2588</td>\n",
              "      <td>3.9774</td>\n",
              "      <td>-0.2563</td>\n",
              "      <td>6.6911</td>\n",
              "      <td>2.6729</td>\n",
              "      <td>-3.3829</td>\n",
              "      <td>5.8166</td>\n",
              "    </tr>\n",
              "    <tr>\n",
              "      <th>4117</th>\n",
              "      <td>14.8195</td>\n",
              "      <td>5.8222</td>\n",
              "      <td>10.5616</td>\n",
              "      <td>NaN</td>\n",
              "      <td>9.7147</td>\n",
              "      <td>NaN</td>\n",
              "      <td>5.3787</td>\n",
              "      <td>22.2014</td>\n",
              "      <td>6.3506</td>\n",
              "      <td>7.8949</td>\n",
              "      <td>...</td>\n",
              "      <td>13.9347</td>\n",
              "      <td>14.1338</td>\n",
              "      <td>NaN</td>\n",
              "      <td>13.2359</td>\n",
              "      <td>-0.1516</td>\n",
              "      <td>NaN</td>\n",
              "      <td>12.5811</td>\n",
              "      <td>2.1807</td>\n",
              "      <td>4.2291</td>\n",
              "      <td>5.8656</td>\n",
              "    </tr>\n",
              "    <tr>\n",
              "      <th>8004</th>\n",
              "      <td>NaN</td>\n",
              "      <td>-3.3968</td>\n",
              "      <td>6.8010</td>\n",
              "      <td>NaN</td>\n",
              "      <td>13.5134</td>\n",
              "      <td>11.9066</td>\n",
              "      <td>4.5143</td>\n",
              "      <td>NaN</td>\n",
              "      <td>4.7773</td>\n",
              "      <td>8.5789</td>\n",
              "      <td>...</td>\n",
              "      <td>14.2688</td>\n",
              "      <td>11.2083</td>\n",
              "      <td>-16.1990</td>\n",
              "      <td>30.6839</td>\n",
              "      <td>6.7479</td>\n",
              "      <td>NaN</td>\n",
              "      <td>15.8456</td>\n",
              "      <td>4.3784</td>\n",
              "      <td>16.0477</td>\n",
              "      <td>6.3966</td>\n",
              "    </tr>\n",
              "  </tbody>\n",
              "</table>\n",
              "<p>9720 rows × 25 columns</p>\n",
              "</div>\n",
              "      <button class=\"colab-df-convert\" onclick=\"convertToInteractive('df-f0bcc6e0-13ea-41bf-975f-742fcc4d655b')\"\n",
              "              title=\"Convert this dataframe to an interactive table.\"\n",
              "              style=\"display:none;\">\n",
              "        \n",
              "  <svg xmlns=\"http://www.w3.org/2000/svg\" height=\"24px\"viewBox=\"0 0 24 24\"\n",
              "       width=\"24px\">\n",
              "    <path d=\"M0 0h24v24H0V0z\" fill=\"none\"/>\n",
              "    <path d=\"M18.56 5.44l.94 2.06.94-2.06 2.06-.94-2.06-.94-.94-2.06-.94 2.06-2.06.94zm-11 1L8.5 8.5l.94-2.06 2.06-.94-2.06-.94L8.5 2.5l-.94 2.06-2.06.94zm10 10l.94 2.06.94-2.06 2.06-.94-2.06-.94-.94-2.06-.94 2.06-2.06.94z\"/><path d=\"M17.41 7.96l-1.37-1.37c-.4-.4-.92-.59-1.43-.59-.52 0-1.04.2-1.43.59L10.3 9.45l-7.72 7.72c-.78.78-.78 2.05 0 2.83L4 21.41c.39.39.9.59 1.41.59.51 0 1.02-.2 1.41-.59l7.78-7.78 2.81-2.81c.8-.78.8-2.07 0-2.86zM5.41 20L4 18.59l7.72-7.72 1.47 1.35L5.41 20z\"/>\n",
              "  </svg>\n",
              "      </button>\n",
              "      \n",
              "  <style>\n",
              "    .colab-df-container {\n",
              "      display:flex;\n",
              "      flex-wrap:wrap;\n",
              "      gap: 12px;\n",
              "    }\n",
              "\n",
              "    .colab-df-convert {\n",
              "      background-color: #E8F0FE;\n",
              "      border: none;\n",
              "      border-radius: 50%;\n",
              "      cursor: pointer;\n",
              "      display: none;\n",
              "      fill: #1967D2;\n",
              "      height: 32px;\n",
              "      padding: 0 0 0 0;\n",
              "      width: 32px;\n",
              "    }\n",
              "\n",
              "    .colab-df-convert:hover {\n",
              "      background-color: #E2EBFA;\n",
              "      box-shadow: 0px 1px 2px rgba(60, 64, 67, 0.3), 0px 1px 3px 1px rgba(60, 64, 67, 0.15);\n",
              "      fill: #174EA6;\n",
              "    }\n",
              "\n",
              "    [theme=dark] .colab-df-convert {\n",
              "      background-color: #3B4455;\n",
              "      fill: #D2E3FC;\n",
              "    }\n",
              "\n",
              "    [theme=dark] .colab-df-convert:hover {\n",
              "      background-color: #434B5C;\n",
              "      box-shadow: 0px 1px 3px 1px rgba(0, 0, 0, 0.15);\n",
              "      filter: drop-shadow(0px 1px 2px rgba(0, 0, 0, 0.3));\n",
              "      fill: #FFFFFF;\n",
              "    }\n",
              "  </style>\n",
              "\n",
              "      <script>\n",
              "        const buttonEl =\n",
              "          document.querySelector('#df-f0bcc6e0-13ea-41bf-975f-742fcc4d655b button.colab-df-convert');\n",
              "        buttonEl.style.display =\n",
              "          google.colab.kernel.accessAllowed ? 'block' : 'none';\n",
              "\n",
              "        async function convertToInteractive(key) {\n",
              "          const element = document.querySelector('#df-f0bcc6e0-13ea-41bf-975f-742fcc4d655b');\n",
              "          const dataTable =\n",
              "            await google.colab.kernel.invokeFunction('convertToInteractive',\n",
              "                                                     [key], {});\n",
              "          if (!dataTable) return;\n",
              "\n",
              "          const docLinkHtml = 'Like what you see? Visit the ' +\n",
              "            '<a target=\"_blank\" href=https://colab.research.google.com/notebooks/data_table.ipynb>data table notebook</a>'\n",
              "            + ' to learn more about interactive tables.';\n",
              "          element.innerHTML = '';\n",
              "          dataTable['output_type'] = 'display_data';\n",
              "          await google.colab.output.renderOutput(dataTable, element);\n",
              "          const docLink = document.createElement('div');\n",
              "          docLink.innerHTML = docLinkHtml;\n",
              "          element.appendChild(docLink);\n",
              "        }\n",
              "      </script>\n",
              "    </div>\n",
              "  </div>\n",
              "  "
            ]
          },
          "metadata": {},
          "execution_count": 396
        }
      ]
    },
    {
      "cell_type": "code",
      "source": [
        "HGB = HistGradientBoostingClassifier()\n",
        "HGB.fit(X_train1, y_train1)\n",
        "pred_HGB = HGB.predict(X_test1)"
      ],
      "metadata": {
        "id": "VtYv_FfYdoHW"
      },
      "execution_count": 397,
      "outputs": []
    },
    {
      "cell_type": "code",
      "source": [
        "pred_proba_HGB = HGB.predict_proba(X_test1)[:,1]\n",
        "pred_proba_HGB"
      ],
      "metadata": {
        "colab": {
          "base_uri": "https://localhost:8080/",
          "height": 0
        },
        "outputId": "e20dc57f-65c2-4503-d5f7-652ab6249fe3",
        "id": "FY7HhVOTdoHX"
      },
      "execution_count": 398,
      "outputs": [
        {
          "output_type": "execute_result",
          "data": {
            "text/plain": [
              "array([0.05571966, 0.12678995, 0.08010094, ..., 0.07326192, 0.0717292 ,\n",
              "       0.14123194])"
            ]
          },
          "metadata": {},
          "execution_count": 398
        }
      ]
    },
    {
      "cell_type": "code",
      "source": [
        "print(accuracy_score(y_test1, pred_HGB))\n",
        "roc_auc_score(y_test1, pred_proba_HGB)"
      ],
      "metadata": {
        "colab": {
          "base_uri": "https://localhost:8080/",
          "height": 0
        },
        "outputId": "48ee291c-96e0-4745-d90b-72c99baff89b",
        "id": "lJy_9Qg5doHX"
      },
      "execution_count": 399,
      "outputs": [
        {
          "output_type": "stream",
          "name": "stdout",
          "text": [
            "0.9064814814814814\n"
          ]
        },
        {
          "output_type": "execute_result",
          "data": {
            "text/plain": [
              "0.6294545866411311"
            ]
          },
          "metadata": {},
          "execution_count": 399
        }
      ]
    },
    {
      "cell_type": "code",
      "source": [
        "fpr, tpr, threshold = metrics.roc_curve(y_test1, pred_proba_HGB)\n",
        "roc_auc = metrics.auc(fpr, tpr)\n",
        "plt.figure(figsize=(6,6))\n",
        "plt.title('Validation ROC')\n",
        "plt.plot(fpr, tpr, 'b', label = 'Val AUC = %0.3f' % roc_auc)\n",
        "plt.legend(loc = 'lower right')\n",
        "plt.plot([0, 1], [0, 1],'r--')\n",
        "plt.xlim([0, 1])\n",
        "plt.ylim([0, 1])\n",
        "plt.ylabel('True Positive Rate')\n",
        "plt.xlabel('False Positive Rate')\n",
        "plt.show()"
      ],
      "metadata": {
        "colab": {
          "base_uri": "https://localhost:8080/",
          "height": 440
        },
        "outputId": "6cb507f0-a3f2-4708-8b0a-be44dcc9f6e5",
        "id": "8L2lVlqtdoHY"
      },
      "execution_count": 400,
      "outputs": [
        {
          "output_type": "display_data",
          "data": {
            "text/plain": [
              "<Figure size 432x432 with 1 Axes>"
            ],
            "image/png": "[encoded data removed]"
          },
          "metadata": {}
        }
      ]
    },
    {
      "cell_type": "code",
      "source": [
        "print(classification_report(y_test1, pred_HGB))"
      ],
      "metadata": {
        "colab": {
          "base_uri": "https://localhost:8080/",
          "height": 0
        },
        "id": "5L1SIWrFix-x",
        "outputId": "dcd56f16-de6c-4f66-c667-d9e1ccf0411a"
      },
      "execution_count": 401,
      "outputs": [
        {
          "output_type": "stream",
          "name": "stdout",
          "text": [
            "              precision    recall  f1-score   support\n",
            "\n",
            "           0       0.91      1.00      0.95       981\n",
            "           1       0.00      0.00      0.00        99\n",
            "\n",
            "    accuracy                           0.91      1080\n",
            "   macro avg       0.45      0.50      0.48      1080\n",
            "weighted avg       0.82      0.91      0.86      1080\n",
            "\n"
          ]
        }
      ]
    },
    {
      "cell_type": "markdown",
      "source": [
        "##Model Selection\n",
        "Based on the many experiments we tried, we chose Logistic Regression for further training, which is our best performing model in the competition."
      ],
      "metadata": {
        "id": "XTFNWE89jV0z"
      }
    },
    {
      "cell_type": "code",
      "source": [
        "keys = ['LR','KNN','RF','GBC','HGB']\n",
        "values=[roc_auc_score(y_test, pred_proba_lr),roc_auc_score(y_test, pred_proba_k),roc_auc_score(y_test, pred_proba_rf),roc_auc_score(y_test, pred_proba_GBC),roc_auc_score(y_test1, pred_proba_HGB)]\n",
        "plt.bar(keys,values)\n",
        "plt.title('Comparsion of Different Models')"
      ],
      "metadata": {
        "colab": {
          "base_uri": "https://localhost:8080/",
          "height": 321
        },
        "id": "RaoY-PzOCIB3",
        "outputId": "61684ebe-65f0-4505-c51a-67a665644d3f"
      },
      "execution_count": 402,
      "outputs": [
        {
          "output_type": "execute_result",
          "data": {
            "text/plain": [
              "Text(0.5, 1.0, 'Comparsion of Different Models')"
            ]
          },
          "metadata": {},
          "execution_count": 402
        },
        {
          "output_type": "display_data",
          "data": {
            "text/plain": [
              "<Figure size 432x288 with 1 Axes>"
            ],
            "image/png": "[encoded data removed]"
          },
          "metadata": {}
        }
      ]
    },
    {
      "cell_type": "markdown",
      "source": [
        "#**Further Training of Selected Model**"
      ],
      "metadata": {
        "id": "PVBOQwv5mTLb"
      }
    },
    {
      "cell_type": "markdown",
      "source": [
        "##Balancing Data with SMOTE"
      ],
      "metadata": {
        "id": "0oUQJ08Yk_XA"
      }
    },
    {
      "cell_type": "code",
      "source": [
        "oversample = SMOTE(random_state=0)\n",
        "X_train_s, y_train_s = oversample.fit_resample(X_train, y_train)\n",
        "# Prepare for hyperparamater tuning\n",
        "X_s, y_s = oversample.fit_resample(X_num_transformed, labels)"
      ],
      "metadata": {
        "id": "s9rZeZdqlZxW"
      },
      "execution_count": 403,
      "outputs": []
    },
    {
      "cell_type": "code",
      "source": [
        "print(X_train_s.shape)\n",
        "print(y_train_s.shape)"
      ],
      "metadata": {
        "colab": {
          "base_uri": "https://localhost:8080/",
          "height": 0
        },
        "id": "WPt19Hqxlsdv",
        "outputId": "82806d1e-c36f-49d1-ac05-26cc930fb563"
      },
      "execution_count": 404,
      "outputs": [
        {
          "output_type": "stream",
          "name": "stdout",
          "text": [
            "(17532, 25)\n",
            "(17532,)\n"
          ]
        }
      ]
    },
    {
      "cell_type": "markdown",
      "source": [
        "##Hyperparameters tuning with GridSearchCV"
      ],
      "metadata": {
        "id": "QVuUoU5IiMPn"
      }
    },
    {
      "cell_type": "code",
      "source": [
        "C_vals = [1e-05,1e-06, 0.00001 ,0.0001, 0.001, 0.01, 0.1, 1, 10, 100]\n",
        "class_weight = ['balanced',{0: 0.6, 1: 0.4},'None']\n",
        "cv = StratifiedShuffleSplit(n_splits=10, test_size= .25, random_state=0)\n",
        "param = {'C':C_vals, 'class_weight':class_weight}\n",
        "\n",
        "lr=LogisticRegression()\n",
        "\n",
        "grid = GridSearchCV(\n",
        "    estimator=LogisticRegression(),\n",
        "    param_grid = param,\n",
        "    scoring = 'roc_auc',\n",
        "    n_jobs= -1,\n",
        "    cv=cv,\n",
        "    error_score='raise'\n",
        ")\n",
        "\n",
        "grid.fit(X_train_s, y_train_s)"
      ],
      "metadata": {
        "colab": {
          "base_uri": "https://localhost:8080/",
          "height": 0
        },
        "id": "c42MLIXUiR8s",
        "outputId": "e04c516f-35d9-4890-f64b-ed1f34321fe5"
      },
      "execution_count": 405,
      "outputs": [
        {
          "output_type": "execute_result",
          "data": {
            "text/plain": [
              "GridSearchCV(cv=StratifiedShuffleSplit(n_splits=10, random_state=0, test_size=0.25,\n",
              "            train_size=None),\n",
              "             error_score='raise', estimator=LogisticRegression(), n_jobs=-1,\n",
              "             param_grid={'C': [1e-05, 1e-06, 1e-05, 0.0001, 0.001, 0.01, 0.1, 1,\n",
              "                               10, 100],\n",
              "                         'class_weight': ['balanced', {0: 0.6, 1: 0.4},\n",
              "                                          'None']},\n",
              "             scoring='roc_auc')"
            ]
          },
          "metadata": {},
          "execution_count": 405
        }
      ]
    },
    {
      "cell_type": "code",
      "source": [
        "print(grid.best_score_)\n",
        "print(grid.best_params_)\n",
        "print(grid.best_estimator_)"
      ],
      "metadata": {
        "colab": {
          "base_uri": "https://localhost:8080/",
          "height": 0
        },
        "id": "TspFcffWkl7f",
        "outputId": "c3adaac6-d277-4bfc-e5fa-2f3412767fe1"
      },
      "execution_count": 406,
      "outputs": [
        {
          "output_type": "stream",
          "name": "stdout",
          "text": [
            "0.6627872359386608\n",
            "{'C': 0.001, 'class_weight': {0: 0.6, 1: 0.4}}\n",
            "LogisticRegression(C=0.001, class_weight={0: 0.6, 1: 0.4})\n"
          ]
        }
      ]
    },
    {
      "cell_type": "markdown",
      "source": [
        "To get a better model, we must deal with the unbalance of data. Due to the size of our dataset, we chose oversampling rather than undersampling since undersampling could result in the loss of important information."
      ],
      "metadata": {
        "id": "cYFqW3rBluuM"
      }
    },
    {
      "cell_type": "markdown",
      "source": [
        "##Model Performance with Balanced Data and Best Hyperparameters"
      ],
      "metadata": {
        "id": "FmPvNH4LoqWo"
      }
    },
    {
      "cell_type": "code",
      "source": [
        "lr = LogisticRegression(C=0.001, class_weight={0: 0.6, 1: 0.4})\n",
        "lr.fit(X_train_s, y_train_s)\n",
        "pred_lr = lr.predict(X_test)"
      ],
      "metadata": {
        "id": "j6PyDQQwpReD"
      },
      "execution_count": 407,
      "outputs": []
    },
    {
      "cell_type": "code",
      "source": [
        "pred_proba_lr = lr.predict_proba(X_test)[:,1]\n",
        "pred_proba_lr"
      ],
      "metadata": {
        "colab": {
          "base_uri": "https://localhost:8080/",
          "height": 0
        },
        "outputId": "38fd6ca2-bd51-4ab8-8e1d-999bde513f9c",
        "id": "7Jf1MxkfpReD"
      },
      "execution_count": 408,
      "outputs": [
        {
          "output_type": "execute_result",
          "data": {
            "text/plain": [
              "array([0.6028086 , 0.41010858, 0.44072951, ..., 0.39691499, 0.45397674,\n",
              "       0.46611845])"
            ]
          },
          "metadata": {},
          "execution_count": 408
        }
      ]
    },
    {
      "cell_type": "code",
      "source": [
        "print(accuracy_score(y_test, pred_lr))\n",
        "roc_auc_score(y_test, lr.decision_function(X_test))"
      ],
      "metadata": {
        "colab": {
          "base_uri": "https://localhost:8080/",
          "height": 0
        },
        "outputId": "3e07a73c-77c6-4bf5-e855-03db5df687d2",
        "id": "XlnGtB3LpReD"
      },
      "execution_count": 409,
      "outputs": [
        {
          "output_type": "stream",
          "name": "stdout",
          "text": [
            "0.8305555555555556\n"
          ]
        },
        {
          "output_type": "execute_result",
          "data": {
            "text/plain": [
              "0.6006992074378905"
            ]
          },
          "metadata": {},
          "execution_count": 409
        }
      ]
    },
    {
      "cell_type": "code",
      "source": [
        "fpr, tpr, threshold = metrics.roc_curve(y_test, pred_proba_lr)\n",
        "roc_auc = metrics.auc(fpr, tpr)\n",
        "plt.figure(figsize=(6,6))\n",
        "plt.title('Validation ROC')\n",
        "plt.plot(fpr, tpr, 'b', label = 'Val AUC = %0.3f' % roc_auc)\n",
        "plt.legend(loc = 'lower right')\n",
        "plt.plot([0, 1], [0, 1],'r--')\n",
        "plt.xlim([0, 1])\n",
        "plt.ylim([0, 1])\n",
        "plt.ylabel('True Positive Rate')\n",
        "plt.xlabel('False Positive Rate')\n",
        "plt.show()"
      ],
      "metadata": {
        "colab": {
          "base_uri": "https://localhost:8080/",
          "height": 440
        },
        "outputId": "f1391764-cf1e-4bd3-b4a7-90ead2e8fe0e",
        "id": "EoWNnmR5pReD"
      },
      "execution_count": 410,
      "outputs": [
        {
          "output_type": "display_data",
          "data": {
            "text/plain": [
              "<Figure size 432x432 with 1 Axes>"
            ],
            "image/png": "[encoded data removed]"
          },
          "metadata": {}
        }
      ]
    },
    {
      "cell_type": "code",
      "source": [
        "print(classification_report(y_test, pred_lr))\n",
        "cm=confusion_matrix(y_test, pred_lr)"
      ],
      "metadata": {
        "colab": {
          "base_uri": "https://localhost:8080/",
          "height": 0
        },
        "id": "pAkE0sHxqZRg",
        "outputId": "4b8878d7-58bd-46cb-e9a3-bdfaa40d629d"
      },
      "execution_count": 411,
      "outputs": [
        {
          "output_type": "stream",
          "name": "stdout",
          "text": [
            "              precision    recall  f1-score   support\n",
            "\n",
            "           0       0.91      0.90      0.90       972\n",
            "           1       0.21      0.25      0.23       108\n",
            "\n",
            "    accuracy                           0.83      1080\n",
            "   macro avg       0.56      0.57      0.57      1080\n",
            "weighted avg       0.84      0.83      0.84      1080\n",
            "\n"
          ]
        }
      ]
    },
    {
      "cell_type": "code",
      "source": [
        "plot_confusion_matrix(lr , X_test , y_test)"
      ],
      "metadata": {
        "colab": {
          "base_uri": "https://localhost:8080/",
          "height": 380
        },
        "id": "tiE6oh0KbqIv",
        "outputId": "a18ff4c6-6b43-4ecc-a230-a7f4db049c13"
      },
      "execution_count": 412,
      "outputs": [
        {
          "output_type": "stream",
          "name": "stderr",
          "text": [
            "/usr/local/lib/python3.7/dist-packages/sklearn/utils/deprecation.py:87: FutureWarning: Function plot_confusion_matrix is deprecated; Function `plot_confusion_matrix` is deprecated in 1.0 and will be removed in 1.2. Use one of the class methods: ConfusionMatrixDisplay.from_predictions or ConfusionMatrixDisplay.from_estimator.\n",
            "  warnings.warn(msg, category=FutureWarning)\n"
          ]
        },
        {
          "output_type": "execute_result",
          "data": {
            "text/plain": [
              "<sklearn.metrics._plot.confusion_matrix.ConfusionMatrixDisplay at 0x7fee2dabb350>"
            ]
          },
          "metadata": {},
          "execution_count": 412
        },
        {
          "output_type": "display_data",
          "data": {
            "text/plain": [
              "<Figure size 432x288 with 2 Axes>"
            ],
            "image/png": "[encoded data removed]"
          },
          "metadata": {}
        }
      ]
    },
    {
      "cell_type": "markdown",
      "source": [
        "#**Conclusion**\n",
        "\n",
        "\n",
        "\n",
        "\n",
        "\n"
      ],
      "metadata": {
        "id": "LDAN6Z1Hr01z"
      }
    },
    {
      "cell_type": "markdown",
      "source": [
        "##Findings\n",
        "\n",
        "*   The good and stable perfermance of Logsitic Regression can be the reason why it is one of the most popular methods to classification cases in the real world. \n",
        "*   Algorithms could be fancy and powerful, but making the dataset informative and clean is essential to feed into our models and get a better performance. In this project, we did't show all the experiments we tried, but changing the way how we fill in NA value or the methods we balance the data lead a bigger change than tuning the parameters. Both Gradient Boosting Classifier and Hist Gradient Boosting Classifer get a much better performance after we balanced the data with SMOTE.\n",
        "*   In the process of this project, we became more familiar with data pre-processing and the training of different models. Also, in order to improve the performance of our models and get better results in the competition, we learned a lot of models and data pre-processing methods that we did not know before, which was very exciting and greatly stimulated our interest in machine learning."
      ],
      "metadata": {
        "id": "wvfcxmHip7RP"
      }
    },
    {
      "cell_type": "markdown",
      "source": [
        "##Output Prediction of Test Data"
      ],
      "metadata": {
        "id": "RKgZ0RRWv1Xe"
      }
    },
    {
      "cell_type": "markdown",
      "source": [
        "Although we tuning the best hyperparameters, but the best performance of our all the submissions is the one with default hyperparameters. It does not mean what we done before is not useful, but the model with default parameters perform better in this test dataset."
      ],
      "metadata": {
        "id": "ngdMxOMKxeD8"
      }
    },
    {
      "cell_type": "code",
      "source": [
        "# use whole train data after transformation and balancing to fit the model\n",
        "\n",
        "lr = LogisticRegression()\n",
        "lr.fit(X_s, y_s)\n",
        "\n",
        "x_pre = ct.fit_transform(test)\n",
        "x_pre.shape\n",
        "\n",
        "predict_lr2 = lr.predict_proba(x_pre)[:,1]\n",
        "predict_lr2"
      ],
      "metadata": {
        "colab": {
          "base_uri": "https://localhost:8080/",
          "height": 0
        },
        "id": "HZI4sVbOvwgT",
        "outputId": "b0de7414-de42-491c-b728-b3bf4843a1ee"
      },
      "execution_count": 413,
      "outputs": [
        {
          "output_type": "execute_result",
          "data": {
            "text/plain": [
              "array([0.47527007, 0.68707136, 0.43246044, ..., 0.30978369, 0.48622168,\n",
              "       0.51958333])"
            ]
          },
          "metadata": {},
          "execution_count": 413
        }
      ]
    },
    {
      "cell_type": "code",
      "source": [
        "ID = np.arange(1,x_pre.shape[0]+1)\n",
        "d = {'ID': ID, 'Y': predict_lr2}\n",
        "out = pd.DataFrame(d)\n",
        "out.to_csv('/content/pred_ready_0.65980.csv', \n",
        "    index = False)"
      ],
      "metadata": {
        "id": "laEuDmgIxNXz"
      },
      "execution_count": 156,
      "outputs": []
    }
  ]
}